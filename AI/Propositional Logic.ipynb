{
 "cells": [
  {
   "metadata": {},
   "cell_type": "markdown",
   "source": [
    "### Basic building block\n",
    "Just printing out what a logic does...\n",
    "\n",
    "First let’s define a simple class for storing our statements.\n"
   ],
   "id": "a9b78d6b232541ab"
  },
  {
   "cell_type": "code",
   "id": "initial_id",
   "metadata": {
    "collapsed": true,
    "ExecuteTime": {
     "end_time": "2025-09-20T18:03:36.102698Z",
     "start_time": "2025-09-20T18:03:36.098579Z"
    }
   },
   "source": [
    "from pickletools import name2i\n",
    "from pydoc import parentname\n",
    "\n",
    "\n",
    "class Statement:\n",
    "    def __init__(self,subject,predicate,singular=True):\n",
    "        self.subject = subject\n",
    "        self.predicate = predicate\n",
    "        self.singular = singular"
   ],
   "outputs": [],
   "execution_count": 22
  },
  {
   "metadata": {},
   "cell_type": "markdown",
   "source": "Now we will define our actual relation class with methods to pring natural language statements from logic...",
   "id": "e4af37e0ede38c84"
  },
  {
   "metadata": {
    "ExecuteTime": {
     "end_time": "2025-09-20T18:03:39.234227Z",
     "start_time": "2025-09-20T18:03:39.226610Z"
    }
   },
   "cell_type": "code",
   "source": [
    "class Relation:\n",
    "    def __init__(self):\n",
    "        self.map = {}\n",
    "\n",
    "    def add(self, statement, subject, predicate, singular=True):\n",
    "        self.map[statement] = Statement(subject, predicate, singular)\n",
    "\n",
    "    def print_statement(self, statement):\n",
    "        if self.map[statement].singular:\n",
    "            print(self.map[statement].subject, \" is \", self.map[statement].predicate, end=\"\")\n",
    "        else:\n",
    "            print(self.map[statement].subject, \" are \", self.map[statement].predicate, end=\"\")\n",
    "\n",
    "    def print_neg_statement(self, statement):\n",
    "        if self.map[statement].singular:\n",
    "            print(self.map[statement].subject, \" is not \", self.map[statement].predicate, end=\"\")\n",
    "        else:\n",
    "            print(self.map[statement].subject, \" are not \", self.map[statement].predicate, end=\"\")\n",
    "\n",
    "    def build_statement(self, logic):\n",
    "        \"\"\"\n",
    "        & = AND\n",
    "        | = OR\n",
    "        ! = NOT\n",
    "        ~ = IMPLIES\n",
    "        * = IF AND ONLY IF\n",
    "\n",
    "        A = EVERY\n",
    "        E = SOME\n",
    "        \"\"\"\n",
    "        logic = logic.replace(\" \", \"\")  # no space\n",
    "        logic = logic.replace(\",\", \"\")  # no comma\n",
    "\n",
    "        neg = False\n",
    "        only_sub = False\n",
    "\n",
    "        for i in range(len(logic)):\n",
    "            if logic[i] == '!':\n",
    "                neg = True\n",
    "            elif logic[i] == '&':\n",
    "                print(\" and \", end=\"\")\n",
    "            elif logic[i] == '|':\n",
    "                print(\" or \", end=\"\")\n",
    "            elif logic[i] == '*':\n",
    "                print(\" if and only if, \", end=\"\")\n",
    "            elif logic[i] == '~':\n",
    "                print(\" implies, \", end=\"\")\n",
    "            elif logic[i] == 'A':\n",
    "                print(\" For all \", end=\"\")\n",
    "                only_sub = True\n",
    "            elif logic[i] == 'E':\n",
    "                print(\" For some \", end=\"\")\n",
    "                only_sub = True\n",
    "            elif logic[i] in ['(', ')', ',']:\n",
    "                continue\n",
    "            else:\n",
    "                if only_sub:\n",
    "                    print(self.map[logic[i]].subject, end=\", \")\n",
    "                    only_sub = False\n",
    "                elif neg:\n",
    "                    self.print_neg_statement(logic[i])\n",
    "                    neg = False\n",
    "                else:\n",
    "                    self.print_statement(logic[i])\n",
    "        print(\".\")"
   ],
   "id": "6ed4ed436c3b211f",
   "outputs": [],
   "execution_count": 23
  },
  {
   "metadata": {},
   "cell_type": "markdown",
   "source": "Let’s test our class,",
   "id": "964002662692139d"
  },
  {
   "metadata": {
    "ExecuteTime": {
     "end_time": "2025-09-20T18:03:41.246122Z",
     "start_time": "2025-09-20T18:03:41.241091Z"
    }
   },
   "cell_type": "code",
   "source": [
    "relation = Relation()\n",
    "relation.add(\"s\",\"students\",\"brilliant\",singular=False)\n",
    "relation.add(\"a\",\"Tanmoy\",\"bad boy\")\n",
    "relation.add(\"b\",\"Tanmoy\",\"lazy\")\n",
    "relation.add(\"c\",\"Prosenjit\",\"friend of Tanmoy\")\n",
    "\n",
    "relation.build_statement(\"A(s) s\")\n",
    "relation.build_statement(\"a & !b ~ a\")"
   ],
   "id": "15b95c64c868c2c8",
   "outputs": [
    {
     "name": "stdout",
     "output_type": "stream",
     "text": [
      " For all students, students  are  brilliant.\n",
      "Tanmoy  is  bad boy and Tanmoy  is not  lazy implies, Tanmoy  is  bad boy.\n"
     ]
    }
   ],
   "execution_count": 24
  },
  {
   "metadata": {},
   "cell_type": "markdown",
   "source": [
    "### Truth Table\n",
    "Let’s build truth tables for basic logical operations. We need to draw tables again and again, so let’s create a function to do that."
   ],
   "id": "37d3dc57807a96eb"
  },
  {
   "metadata": {
    "ExecuteTime": {
     "end_time": "2025-09-20T18:03:44.815827Z",
     "start_time": "2025-09-20T18:03:44.810874Z"
    }
   },
   "cell_type": "code",
   "source": [
    "def draw_table(li, *args):\n",
    "    length = len(\" | \".join(args))\n",
    "    print(\"-\" * length)\n",
    "    print(\" | \".join(args))\n",
    "    print(\"-\" * length)\n",
    "    for row in li:\n",
    "        print(\" | \".join(str(i) for i in row))\n",
    "        # print(\" | \".join(row))\n",
    "    print(\"-\" * length)\n",
    "\n",
    "\n",
    "draw_table([[\"1\", \"1\", \"1\"],\n",
    "            [\"1\", \"0\", \"0\"],\n",
    "            [\"0\", \"1\", \"0\"],\n",
    "            [\"0\", \"0\", \"0\"]], \"A\", \"B\", \"A AND B\")"
   ],
   "id": "715f43e61fb7b575",
   "outputs": [
    {
     "name": "stdout",
     "output_type": "stream",
     "text": [
      "---------------\n",
      "A | B | A AND B\n",
      "---------------\n",
      "1 | 1 | 1\n",
      "1 | 0 | 0\n",
      "0 | 1 | 0\n",
      "0 | 0 | 0\n",
      "---------------\n"
     ]
    }
   ],
   "execution_count": 25
  },
  {
   "metadata": {},
   "cell_type": "markdown",
   "source": [
    "### Relation Builder (BONUS)\n",
    "Suppose we have a list of relations like, someone is someones parent or children and we want to build relation chains like grandparent, grandchild, cousin etc. We can do that with a simple class."
   ],
   "id": "df25aaac2b64353a"
  },
  {
   "metadata": {
    "ExecuteTime": {
     "end_time": "2025-09-20T18:22:20.745629Z",
     "start_time": "2025-09-20T18:22:20.740305Z"
    }
   },
   "cell_type": "code",
   "source": [
    "class People:\n",
    "    def __init__(self, name, parent=None, children=None):\n",
    "        self.name = name\n",
    "        self.parent = parent\n",
    "        self.children = [children]\n",
    "\n",
    "class Relation:\n",
    "    def __init__(self):\n",
    "        self.map = {}\n",
    "\n",
    "    def add(self, person):\n",
    "        self.map[person.name] = person\n",
    "\n",
    "    def parent(self, parent, child):\n",
    "        self.map[child].parent = parent\n",
    "        if self.map[parent].children == [None]:\n",
    "            self.map[parent].children = [child]\n",
    "        else:\n",
    "            self.map[parent].children.append(child)\n",
    "\n",
    "    def find_grandparent(self, name):\n",
    "        parent = self.map[name].parent\n",
    "        if parent is None:\n",
    "            return None\n",
    "        grandparent = self.map[parent].parent\n",
    "        return grandparent"
   ],
   "id": "7671778c05b0679a",
   "outputs": [],
   "execution_count": 28
  },
  {
   "metadata": {
    "ExecuteTime": {
     "end_time": "2025-09-20T18:24:10.827766Z",
     "start_time": "2025-09-20T18:24:10.823275Z"
    }
   },
   "cell_type": "code",
   "source": [
    "relation = Relation()\n",
    "\n",
    "john = People(\"John\")\n",
    "toy = People(\"Toy\")\n",
    "mary = People(\"Mary\")\n",
    "joe = People(\"Joe\")\n",
    "\n",
    "relation.add(john)\n",
    "relation.add(toy)\n",
    "relation.add(mary)\n",
    "relation.add(joe)\n",
    "\n",
    "relation.parent(\"John\", \"Toy\")\n",
    "relation.parent(\"Toy\", \"Mary\")\n",
    "relation.parent(\"Mary\", \"Joe\")\n",
    "\n",
    "print(\"Mary's grandparent is:\", relation.find_grandparent(\"Mary\"))"
   ],
   "id": "9c270be4bebcf1d7",
   "outputs": [
    {
     "name": "stdout",
     "output_type": "stream",
     "text": [
      "Mary's grandparent is: John\n"
     ]
    }
   ],
   "execution_count": 33
  },
  {
   "metadata": {},
   "cell_type": "code",
   "outputs": [],
   "execution_count": null,
   "source": "",
   "id": "24380299b5b2fd0e"
  }
 ],
 "metadata": {
  "kernelspec": {
   "display_name": "Python 3",
   "language": "python",
   "name": "python3"
  },
  "language_info": {
   "codemirror_mode": {
    "name": "ipython",
    "version": 2
   },
   "file_extension": ".py",
   "mimetype": "text/x-python",
   "name": "python",
   "nbconvert_exporter": "python",
   "pygments_lexer": "ipython2",
   "version": "2.7.6"
  }
 },
 "nbformat": 4,
 "nbformat_minor": 5
}
