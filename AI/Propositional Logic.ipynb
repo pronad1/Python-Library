{
 "cells": [
  {
   "metadata": {},
   "cell_type": "markdown",
   "source": [
    "### Basic building block\n",
    "Just printing out what a logic does...\n",
    "\n",
    "First let’s define a simple class for storing our statements.\n"
   ],
   "id": "a9b78d6b232541ab"
  },
  {
   "cell_type": "code",
   "id": "initial_id",
   "metadata": {
    "collapsed": true,
    "ExecuteTime": {
     "end_time": "2025-09-20T18:44:04.380280Z",
     "start_time": "2025-09-20T18:44:04.376495Z"
    }
   },
   "source": [
    "class Statement:\n",
    "    def __init__(self,subject,predicate,singular=True):\n",
    "        self.subject = subject\n",
    "        self.predicate = predicate\n",
    "        self.singular = singular"
   ],
   "outputs": [],
   "execution_count": 36
  },
  {
   "metadata": {},
   "cell_type": "markdown",
   "source": "Now we will define our actual relation class with methods to pring natural language statements from logic...",
   "id": "e4af37e0ede38c84"
  },
  {
   "metadata": {
    "ExecuteTime": {
     "end_time": "2025-09-20T18:44:05.951201Z",
     "start_time": "2025-09-20T18:44:05.944038Z"
    }
   },
   "cell_type": "code",
   "source": [
    "class Relation:\n",
    "    def __init__(self):\n",
    "        self.map = {}\n",
    "\n",
    "    def add(self, statement, subject, predicate, singular=True):\n",
    "        self.map[statement] = Statement(subject, predicate, singular)\n",
    "\n",
    "    def print_statement(self, statement):\n",
    "        if self.map[statement].singular:\n",
    "            print(self.map[statement].subject, \" is \", self.map[statement].predicate, end=\"\")\n",
    "        else:\n",
    "            print(self.map[statement].subject, \" are \", self.map[statement].predicate, end=\"\")\n",
    "\n",
    "    def print_neg_statement(self, statement):\n",
    "        if self.map[statement].singular:\n",
    "            print(self.map[statement].subject, \" is not \", self.map[statement].predicate, end=\"\")\n",
    "        else:\n",
    "            print(self.map[statement].subject, \" are not \", self.map[statement].predicate, end=\"\")\n",
    "\n",
    "    def build_statement(self, logic):\n",
    "        \"\"\"\n",
    "        & = AND\n",
    "        | = OR\n",
    "        ! = NOT\n",
    "        ~ = IMPLIES\n",
    "        * = IF AND ONLY IF\n",
    "\n",
    "        A = EVERY\n",
    "        E = SOME\n",
    "        \"\"\"\n",
    "        logic = logic.replace(\" \", \"\")  # no space\n",
    "        logic = logic.replace(\",\", \"\")  # no comma\n",
    "\n",
    "        neg = False\n",
    "        only_sub = False\n",
    "\n",
    "        for i in range(len(logic)):\n",
    "            if logic[i] == '!':\n",
    "                neg = True\n",
    "            elif logic[i] == '&':\n",
    "                print(\" and \", end=\"\")\n",
    "            elif logic[i] == '|':\n",
    "                print(\" or \", end=\"\")\n",
    "            elif logic[i] == '*':\n",
    "                print(\" if and only if, \", end=\"\")\n",
    "            elif logic[i] == '~':\n",
    "                print(\" implies, \", end=\"\")\n",
    "            elif logic[i] == 'A':\n",
    "                print(\" For all \", end=\"\")\n",
    "                only_sub = True\n",
    "            elif logic[i] == 'E':\n",
    "                print(\" For some \", end=\"\")\n",
    "                only_sub = True\n",
    "            elif logic[i] in ['(', ')', ',']:\n",
    "                continue\n",
    "            else:\n",
    "                if only_sub:\n",
    "                    print(self.map[logic[i]].subject, end=\", \")\n",
    "                    only_sub = False\n",
    "                elif neg:\n",
    "                    self.print_neg_statement(logic[i])\n",
    "                    neg = False\n",
    "                else:\n",
    "                    self.print_statement(logic[i])\n",
    "        print(\".\")"
   ],
   "id": "6ed4ed436c3b211f",
   "outputs": [],
   "execution_count": 37
  },
  {
   "metadata": {},
   "cell_type": "markdown",
   "source": "Let’s test our class,",
   "id": "964002662692139d"
  },
  {
   "metadata": {
    "ExecuteTime": {
     "end_time": "2025-09-20T18:44:07.678222Z",
     "start_time": "2025-09-20T18:44:07.673653Z"
    }
   },
   "cell_type": "code",
   "source": [
    "relation = Relation()\n",
    "relation.add(\"s\",\"students\",\"brilliant\",singular=False)\n",
    "relation.add(\"a\",\"Tanmoy\",\"bad boy\")\n",
    "relation.add(\"b\",\"Tanmoy\",\"lazy\")\n",
    "relation.add(\"c\",\"Prosenjit\",\"friend of Tanmoy\")\n",
    "\n",
    "relation.build_statement(\"A(s) s\")\n",
    "relation.build_statement(\"a & !b ~ a\")"
   ],
   "id": "15b95c64c868c2c8",
   "outputs": [
    {
     "name": "stdout",
     "output_type": "stream",
     "text": [
      " For all students, students  are  brilliant.\n",
      "Tanmoy  is  bad boy and Tanmoy  is not  lazy implies, Tanmoy  is  bad boy.\n"
     ]
    }
   ],
   "execution_count": 38
  },
  {
   "metadata": {},
   "cell_type": "markdown",
   "source": [
    "### Truth Table\n",
    "Let’s build truth tables for basic logical operations. We need to draw tables again and again, so let’s create a function to do that."
   ],
   "id": "37d3dc57807a96eb"
  },
  {
   "metadata": {
    "ExecuteTime": {
     "end_time": "2025-09-20T18:57:05.728317Z",
     "start_time": "2025-09-20T18:57:05.722428Z"
    }
   },
   "cell_type": "code",
   "source": [
    "from itertools import product\n",
    "\n",
    "def truth_table(express):\n",
    "    print(\" P | Q | R | r |\\n ______________\")\n",
    "    for P,Q,R in product([0,1], repeat=3):\n",
    "        r=express(P,Q,R)\n",
    "        print(f\" {P} | {Q} | {R} | {r}\")\n",
    "express=lambda P,Q,R: P and Q and R\n",
    "truth_table(express)"
   ],
   "id": "715f43e61fb7b575",
   "outputs": [
    {
     "name": "stdout",
     "output_type": "stream",
     "text": [
      " P | Q | R | r |\n",
      " ______________\n",
      " 0 | 0 | 0 | 0\n",
      " 0 | 0 | 1 | 0\n",
      " 0 | 1 | 0 | 0\n",
      " 0 | 1 | 1 | 0\n",
      " 1 | 0 | 0 | 0\n",
      " 1 | 0 | 1 | 0\n",
      " 1 | 1 | 0 | 0\n",
      " 1 | 1 | 1 | 1\n"
     ]
    }
   ],
   "execution_count": 42
  },
  {
   "metadata": {},
   "cell_type": "markdown",
   "source": [
    "### Relation Builder (BONUS)\n",
    "Suppose we have a list of relations like, someone is someones parent or children and we want to build relation chains like grandparent, grandchild, cousin etc. We can do that with a simple class."
   ],
   "id": "df25aaac2b64353a"
  },
  {
   "metadata": {
    "ExecuteTime": {
     "end_time": "2025-09-20T18:57:15.822524Z",
     "start_time": "2025-09-20T18:57:15.817892Z"
    }
   },
   "cell_type": "code",
   "source": [
    "class People:\n",
    "    def __init__(self, name, parent=None, children=None):\n",
    "        self.name = name\n",
    "        self.parent = parent\n",
    "        self.children = [children]\n",
    "\n",
    "class Relation:\n",
    "    def __init__(self):\n",
    "        self.map = {}\n",
    "\n",
    "    def add(self, person):\n",
    "        self.map[person.name] = person\n",
    "\n",
    "    def parent(self, parent, child):\n",
    "        self.map[child].parent = parent\n",
    "        if self.map[parent].children == [None]:\n",
    "            self.map[parent].children = [child]\n",
    "        else:\n",
    "            self.map[parent].children.append(child)\n",
    "\n",
    "    def find_grandparent(self, name):\n",
    "        parent = self.map[name].parent\n",
    "        if parent is None:\n",
    "            return None\n",
    "        grandparent = self.map[parent].parent\n",
    "        return grandparent"
   ],
   "id": "7671778c05b0679a",
   "outputs": [],
   "execution_count": 43
  },
  {
   "metadata": {
    "ExecuteTime": {
     "end_time": "2025-09-20T18:57:16.924093Z",
     "start_time": "2025-09-20T18:57:16.920252Z"
    }
   },
   "cell_type": "code",
   "source": [
    "relation = Relation()\n",
    "\n",
    "john = People(\"John\")\n",
    "toy = People(\"Toy\")\n",
    "mary = People(\"Mary\")\n",
    "joe = People(\"Joe\")\n",
    "\n",
    "relation.add(john)\n",
    "relation.add(toy)\n",
    "relation.add(mary)\n",
    "relation.add(joe)\n",
    "\n",
    "relation.parent(\"John\", \"Toy\")\n",
    "relation.parent(\"Toy\", \"Mary\")\n",
    "relation.parent(\"Mary\", \"Joe\")\n",
    "\n",
    "print(\"Mary's grandparent is:\", relation.find_grandparent(\"Mary\"))"
   ],
   "id": "9c270be4bebcf1d7",
   "outputs": [
    {
     "name": "stdout",
     "output_type": "stream",
     "text": [
      "Mary's grandparent is: John\n"
     ]
    }
   ],
   "execution_count": 44
  },
  {
   "metadata": {},
   "cell_type": "code",
   "outputs": [],
   "execution_count": null,
   "source": "",
   "id": "99883e0c24cfe3ad"
  }
 ],
 "metadata": {
  "kernelspec": {
   "display_name": "Python 3",
   "language": "python",
   "name": "python3"
  },
  "language_info": {
   "codemirror_mode": {
    "name": "ipython",
    "version": 2
   },
   "file_extension": ".py",
   "mimetype": "text/x-python",
   "name": "python",
   "nbconvert_exporter": "python",
   "pygments_lexer": "ipython2",
   "version": "2.7.6"
  }
 },
 "nbformat": 4,
 "nbformat_minor": 5
}
