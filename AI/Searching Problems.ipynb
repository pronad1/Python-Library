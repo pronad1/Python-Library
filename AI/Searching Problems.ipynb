{
 "cells": [
  {
   "metadata": {},
   "cell_type": "markdown",
   "source": [
    "In artificial intelligence, searching problems involve finding a solution from a large space of possible solutions. We can categorize it into,\n",
    "\n",
    "Uninformed Search: These algorithms do not have any additional information about the goal state. Examples include,\n",
    "\n",
    "Breadth-First Search (BFS)\n",
    "Depth-First Search (DFS)\n",
    "DFS Limited\n",
    "Iterative DFS\n",
    "Bidirectional Search\n",
    "Uniform Cost Search (UCS)\n",
    "Informed Search: These algorithms use heuristics to guide the search process. Examples include,\n",
    "\n",
    "Greedy Best-First Search\n",
    "A* Search"
   ],
   "id": "55ab7344a0f0a265"
  },
  {
   "metadata": {},
   "cell_type": "markdown",
   "source": [
    "### Uninformed search\n",
    "First things first, let’s imagine a tree,\n",
    "<img src=\"img.png\" alt=\"My Image\" width=\"150\"/>\n",
    "\n"
   ],
   "id": "2c4e250e71ae12d6"
  },
  {
   "metadata": {
    "ExecuteTime": {
     "end_time": "2025-09-20T04:09:18.773885Z",
     "start_time": "2025-09-20T04:09:18.770171Z"
    }
   },
   "cell_type": "code",
   "source": [
    "tree = {\n",
    "    'A' : ['B', 'E'],\n",
    "    'B' : ['C', 'D'],\n",
    "    'C' : ['F'],\n",
    "    'D' : [],\n",
    "    'F' : [],\n",
    "    'E' : []\n",
    "}"
   ],
   "id": "b059635feec5d2f8",
   "outputs": [],
   "execution_count": 3
  },
  {
   "metadata": {},
   "cell_type": "markdown",
   "source": [
    "### BFS\n",
    "BFS is an algorithm for traversing or searching tree or graph data structures. It starts at the root node and explores all neighboring nodes at the present depth prior to moving on to nodes at the next depth level."
   ],
   "id": "20981f00b7e84146"
  },
  {
   "metadata": {
    "ExecuteTime": {
     "end_time": "2025-09-20T04:09:21.142185Z",
     "start_time": "2025-09-20T04:09:21.136090Z"
    }
   },
   "cell_type": "code",
   "source": [
    "from collections import deque\n",
    "\n",
    "def bfs(tree, start):\n",
    "    visited = []\n",
    "    queue = deque([start])\n",
    "\n",
    "    while queue:\n",
    "        node = queue.popleft()\n",
    "        if node not in visited:\n",
    "            visited.append(node)\n",
    "            print(node,'->',end=' ')\n",
    "\n",
    "            for child in tree[node]:\n",
    "                if child not in visited:\n",
    "                    queue.append(child)\n",
    "\n",
    "bfs(tree,'A')"
   ],
   "id": "f5e7b3992a2aa074",
   "outputs": [
    {
     "name": "stdout",
     "output_type": "stream",
     "text": [
      "A -> B -> E -> C -> D -> F -> "
     ]
    }
   ],
   "execution_count": 4
  },
  {
   "metadata": {},
   "cell_type": "markdown",
   "source": [
    "### DFS\n",
    "DFS is an algorithm for traversing or searching tree or graph data structures.It starts at the root node and explores as far as possible along each branch before backtracking."
   ],
   "id": "949fcb5d27697133"
  },
  {
   "metadata": {
    "ExecuteTime": {
     "end_time": "2025-09-20T04:19:31.504846Z",
     "start_time": "2025-09-20T04:19:31.499082Z"
    }
   },
   "cell_type": "code",
   "source": [
    "def dfs(tree, start, visited=[]):\n",
    "    if start not in visited:\n",
    "        visited.append(start)\n",
    "        print(start,'->',end=' ')\n",
    "    for node in tree[start]:\n",
    "        dfs(tree, node, visited)\n",
    "dfs(tree,'A')"
   ],
   "id": "ad0aab947c9bc825",
   "outputs": [
    {
     "name": "stdout",
     "output_type": "stream",
     "text": [
      "A -> B -> C -> F -> D -> E -> "
     ]
    }
   ],
   "execution_count": 5
  },
  {
   "metadata": {},
   "cell_type": "markdown",
   "source": [
    "### DFS Limited\n",
    "In DFS limited, instead of exploring till the deepest node, we will limit out step number."
   ],
   "id": "fd21b9265a085cd8"
  },
  {
   "metadata": {
    "ExecuteTime": {
     "end_time": "2025-09-20T07:00:47.963164Z",
     "start_time": "2025-09-20T07:00:47.954239Z"
    }
   },
   "cell_type": "code",
   "source": [
    "def dfs_limited(tree,start,limit,visited=[]):\n",
    "    if limit <= 0:\n",
    "        return\n",
    "    if start not in visited:\n",
    "        visited.append(start)\n",
    "        print(start,end=' ')\n",
    "    for node in tree[start]:\n",
    "        dfs_limited(tree,node,limit-1,visited)\n",
    "dfs_limited(tree,'A',3)"
   ],
   "id": "d8a5b453ef6d98b1",
   "outputs": [
    {
     "name": "stdout",
     "output_type": "stream",
     "text": [
      "A B C D E "
     ]
    }
   ],
   "execution_count": 7
  },
  {
   "metadata": {},
   "cell_type": "markdown",
   "source": [
    "### Iterative DFS\n",
    "Iterative deepening DFS is a hybrid of DFS & BFS. It repeatedly applies DFS with increasing depth limit until a goal is found. This approach combines the space efficiency of DFS with the completeness of BFS."
   ],
   "id": "a7d48f80fcacfaef"
  },
  {
   "metadata": {
    "ExecuteTime": {
     "end_time": "2025-09-20T07:02:24.703646Z",
     "start_time": "2025-09-20T07:02:24.698404Z"
    }
   },
   "cell_type": "code",
   "source": [
    "def iterative_deepening(tree,start,max_limit):\n",
    "    for i in range(max_limit):\n",
    "        print(f'Iteration {i+1} : ',end=' ')\n",
    "        dfs_limited(tree,start,i+1,[])\n",
    "        print()\n",
    "iterative_deepening(tree,'A',4)"
   ],
   "id": "720ad234f4a9adba",
   "outputs": [
    {
     "name": "stdout",
     "output_type": "stream",
     "text": [
      "Iteration 1 :  A \n",
      "Iteration 2 :  A B E \n",
      "Iteration 3 :  A B C D E \n",
      "Iteration 4 :  A B C F D E \n"
     ]
    }
   ],
   "execution_count": 8
  },
  {
   "metadata": {},
   "cell_type": "markdown",
   "source": [
    "### Bidirectional Search\n",
    "Bidirectional search is a graph search algorithm that simultaneously explores the search space from both the initial state and the goal state. The search continues until the two searches meet, thus finding the shortest path more efficiently than traditional unidirectional search methods."
   ],
   "id": "e79e7f406f6468c8"
  },
  {
   "metadata": {
    "ExecuteTime": {
     "end_time": "2025-09-20T09:47:00.980654Z",
     "start_time": "2025-09-20T09:47:00.973138Z"
    }
   },
   "cell_type": "code",
   "source": [
    "un_tree = {\n",
    "    'A' : ['B', 'E'],\n",
    "    'B' : ['C', 'D','A'],\n",
    "    'C' : ['F','B'],\n",
    "    'D' : ['B'],\n",
    "    'E' : ['A'],\n",
    "    'F' : ['C']\n",
    "}"
   ],
   "id": "adf61d7c7b12fc1",
   "outputs": [],
   "execution_count": 9
  },
  {
   "metadata": {
    "ExecuteTime": {
     "end_time": "2025-09-20T09:59:40.883409Z",
     "start_time": "2025-09-20T09:59:40.876009Z"
    }
   },
   "cell_type": "code",
   "source": [
    "from collections import deque\n",
    "def bidirectional(tree,start,goal):\n",
    "    if start == goal:\n",
    "        return None,None\n",
    "\n",
    "    start_visited = []\n",
    "    goal_visited = []\n",
    "\n",
    "    start_queue = deque([start])\n",
    "    goal_queue = deque([goal])\n",
    "\n",
    "    while start_queue and goal_queue:\n",
    "        start_node = start_queue.popleft()\n",
    "        if start_node not in start_visited:\n",
    "            start_visited.append(start_node)\n",
    "\n",
    "            for child in tree[start_node]:\n",
    "                if child not in start_visited:\n",
    "                    start_queue.append(child)\n",
    "\n",
    "        goal_node = goal_queue.popleft()\n",
    "        if goal_node not in goal_visited:\n",
    "            goal_visited.append(goal_node)\n",
    "\n",
    "            for child in tree[goal_node]:\n",
    "                if child not in goal_visited:\n",
    "                    goal_queue.append(child)\n",
    "\n",
    "        if start_node in goal_visited or goal_node in start_visited:\n",
    "            return start_visited,goal_visited\n",
    "\n",
    "print(bidirectional(un_tree,'A','F'))"
   ],
   "id": "69146a8f863dde9d",
   "outputs": [
    {
     "name": "stdout",
     "output_type": "stream",
     "text": [
      "(['A', 'B', 'E'], ['F', 'C', 'B'])\n"
     ]
    }
   ],
   "execution_count": 11
  },
  {
   "metadata": {},
   "cell_type": "code",
   "outputs": [],
   "execution_count": null,
   "source": "",
   "id": "1f51445d9d311464"
  }
 ],
 "metadata": {
  "kernelspec": {
   "display_name": "Python 3",
   "language": "python",
   "name": "python3"
  },
  "language_info": {
   "codemirror_mode": {
    "name": "ipython",
    "version": 2
   },
   "file_extension": ".py",
   "mimetype": "text/x-python",
   "name": "python",
   "nbconvert_exporter": "python",
   "pygments_lexer": "ipython2",
   "version": "2.7.6"
  }
 },
 "nbformat": 4,
 "nbformat_minor": 5
}
