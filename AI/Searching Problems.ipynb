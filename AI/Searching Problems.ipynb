{
 "cells": [
  {
   "cell_type": "markdown",
   "id": "55ab7344a0f0a265",
   "metadata": {},
   "source": [
    "In artificial intelligence, searching problems involve finding a solution from a large space of possible solutions. We can categorize it into,\n",
    "\n",
    "Uninformed Search: These algorithms do not have any additional information about the goal state. Examples include,\n",
    "\n",
    "Breadth-First Search (BFS)\n",
    "Depth-First Search (DFS)\n",
    "DFS Limited\n",
    "Iterative DFS\n",
    "Bidirectional Search\n",
    "Uniform Cost Search (UCS)\n",
    "Informed Search: These algorithms use heuristics to guide the search process. Examples include,\n",
    "\n",
    "Greedy Best-First Search\n",
    "A* Search"
   ]
  },
  {
   "cell_type": "markdown",
   "id": "2c4e250e71ae12d6",
   "metadata": {},
   "source": [
    "### Uninformed search\n",
    "First things first, let’s imagine a tree,\n",
    "<img src=\"img.png\" alt=\"My Image\" width=\"150\"/>\n",
    "\n"
   ]
  },
  {
   "cell_type": "code",
   "execution_count": 3,
   "id": "b059635feec5d2f8",
   "metadata": {
    "ExecuteTime": {
     "end_time": "2025-09-20T04:09:18.773885Z",
     "start_time": "2025-09-20T04:09:18.770171Z"
    }
   },
   "outputs": [],
   "source": [
    "tree = {\n",
    "    'A' : ['B', 'E'],\n",
    "    'B' : ['C', 'D'],\n",
    "    'C' : ['F'],\n",
    "    'D' : [],\n",
    "    'F' : [],\n",
    "    'E' : []\n",
    "}"
   ]
  },
  {
   "cell_type": "markdown",
   "id": "20981f00b7e84146",
   "metadata": {},
   "source": [
    "### BFS\n",
    "BFS is an algorithm for traversing or searching tree or graph data structures. It starts at the root node and explores all neighboring nodes at the present depth prior to moving on to nodes at the next depth level."
   ]
  },
  {
   "cell_type": "code",
   "execution_count": null,
   "id": "21f93e58",
   "metadata": {},
   "outputs": [],
   "source": []
  },
  {
   "cell_type": "code",
   "execution_count": 4,
   "id": "f5e7b3992a2aa074",
   "metadata": {
    "ExecuteTime": {
     "end_time": "2025-09-20T04:09:21.142185Z",
     "start_time": "2025-09-20T04:09:21.136090Z"
    }
   },
   "outputs": [
    {
     "name": "stdout",
     "output_type": "stream",
     "text": [
      "A -> B -> E -> C -> D -> F -> "
     ]
    }
   ],
   "source": [
    "from collections import deque\n",
    "\n",
    "def bfs(tree, start):\n",
    "    visited = []\n",
    "    queue = deque([start])\n",
    "\n",
    "    while queue:\n",
    "        node = queue.popleft()\n",
    "        if node not in visited:\n",
    "            visited.append(node)\n",
    "            print(node,'->',end=' ')\n",
    "\n",
    "            for child in tree[node]:\n",
    "                if child not in visited:\n",
    "                    queue.append(child)\n",
    "\n",
    "bfs(tree,'A')"
   ]
  },
  {
   "cell_type": "markdown",
   "id": "949fcb5d27697133",
   "metadata": {},
   "source": [
    "### DFS\n",
    "DFS is an algorithm for traversing or searching tree or graph data structures.It starts at the root node and explores as far as possible along each branch before backtracking."
   ]
  },
  {
   "cell_type": "code",
   "execution_count": 5,
   "id": "ad0aab947c9bc825",
   "metadata": {
    "ExecuteTime": {
     "end_time": "2025-09-20T04:19:31.504846Z",
     "start_time": "2025-09-20T04:19:31.499082Z"
    }
   },
   "outputs": [
    {
     "name": "stdout",
     "output_type": "stream",
     "text": [
      "A -> B -> C -> F -> D -> E -> "
     ]
    }
   ],
   "source": [
    "def dfs(tree, start, visited=[]):\n",
    "    if start not in visited:\n",
    "        visited.append(start)\n",
    "        print(start,'->',end=' ')\n",
    "    for node in tree[start]:\n",
    "        dfs(tree, node, visited)\n",
    "dfs(tree,'A')"
   ]
  },
  {
   "cell_type": "markdown",
   "id": "fd21b9265a085cd8",
   "metadata": {},
   "source": [
    "### DFS Limited\n",
    "In DFS limited, instead of exploring till the deepest node, we will limit out step number."
   ]
  },
  {
   "cell_type": "code",
   "execution_count": 7,
   "id": "d8a5b453ef6d98b1",
   "metadata": {
    "ExecuteTime": {
     "end_time": "2025-09-20T07:00:47.963164Z",
     "start_time": "2025-09-20T07:00:47.954239Z"
    }
   },
   "outputs": [
    {
     "name": "stdout",
     "output_type": "stream",
     "text": [
      "A B C D E "
     ]
    }
   ],
   "source": [
    "def dfs_limited(tree,start,limit,visited=[]):\n",
    "    if limit <= 0:\n",
    "        return\n",
    "    if start not in visited:\n",
    "        visited.append(start)\n",
    "        print(start,end=' ')\n",
    "    for node in tree[start]:\n",
    "        dfs_limited(tree,node,limit-1,visited)\n",
    "dfs_limited(tree,'A',3)"
   ]
  },
  {
   "cell_type": "markdown",
   "id": "a7d48f80fcacfaef",
   "metadata": {},
   "source": [
    "### Iterative DFS\n",
    "Iterative deepening DFS is a hybrid of DFS & BFS. It repeatedly applies DFS with increasing depth limit until a goal is found. This approach combines the space efficiency of DFS with the completeness of BFS."
   ]
  },
  {
   "cell_type": "code",
   "execution_count": 8,
   "id": "720ad234f4a9adba",
   "metadata": {
    "ExecuteTime": {
     "end_time": "2025-09-20T07:02:24.703646Z",
     "start_time": "2025-09-20T07:02:24.698404Z"
    }
   },
   "outputs": [
    {
     "name": "stdout",
     "output_type": "stream",
     "text": [
      "Iteration 1 :  A \n",
      "Iteration 2 :  A B E \n",
      "Iteration 3 :  A B C D E \n",
      "Iteration 4 :  A B C F D E \n"
     ]
    }
   ],
   "source": [
    "def iterative_deepening(tree,start,max_limit):\n",
    "    for i in range(max_limit):\n",
    "        print(f'Iteration {i+1} : ',end=' ')\n",
    "        dfs_limited(tree,start,i+1,[])\n",
    "        print()\n",
    "iterative_deepening(tree,'A',4)"
   ]
  },
  {
   "cell_type": "markdown",
   "id": "e79e7f406f6468c8",
   "metadata": {},
   "source": [
    "### Bidirectional Search\n",
    "Bidirectional search is a graph search algorithm that simultaneously explores the search space from both the initial state and the goal state. The search continues until the two searches meet, thus finding the shortest path more efficiently than traditional unidirectional search methods."
   ]
  },
  {
   "cell_type": "code",
   "execution_count": 9,
   "id": "adf61d7c7b12fc1",
   "metadata": {
    "ExecuteTime": {
     "end_time": "2025-09-20T09:47:00.980654Z",
     "start_time": "2025-09-20T09:47:00.973138Z"
    }
   },
   "outputs": [],
   "source": [
    "un_tree = {\n",
    "    'A' : ['B', 'E'],\n",
    "    'B' : ['C', 'D','A'],\n",
    "    'C' : ['F','B'],\n",
    "    'D' : ['B'],\n",
    "    'E' : ['A'],\n",
    "    'F' : ['C']\n",
    "}"
   ]
  },
  {
   "cell_type": "code",
   "execution_count": 11,
   "id": "69146a8f863dde9d",
   "metadata": {
    "ExecuteTime": {
     "end_time": "2025-09-20T09:59:40.883409Z",
     "start_time": "2025-09-20T09:59:40.876009Z"
    }
   },
   "outputs": [
    {
     "name": "stdout",
     "output_type": "stream",
     "text": [
      "(['A', 'B', 'E'], ['F', 'C', 'B'])\n"
     ]
    }
   ],
   "source": [
    "from collections import deque\n",
    "def bidirectional(tree,start,goal):\n",
    "    if start == goal:\n",
    "        return None,None\n",
    "\n",
    "    start_visited = []\n",
    "    goal_visited = []\n",
    "\n",
    "    start_queue = deque([start])\n",
    "    goal_queue = deque([goal])\n",
    "\n",
    "    while start_queue and goal_queue:\n",
    "        start_node = start_queue.popleft()\n",
    "        if start_node not in start_visited:\n",
    "            start_visited.append(start_node)\n",
    "\n",
    "            for child in tree[start_node]:\n",
    "                if child not in start_visited:\n",
    "                    start_queue.append(child)\n",
    "\n",
    "        goal_node = goal_queue.popleft()\n",
    "        if goal_node not in goal_visited:\n",
    "            goal_visited.append(goal_node)\n",
    "\n",
    "            for child in tree[goal_node]:\n",
    "                if child not in goal_visited:\n",
    "                    goal_queue.append(child)\n",
    "\n",
    "        if start_node in goal_visited or goal_node in start_visited:\n",
    "            return start_visited,goal_visited\n",
    "\n",
    "print(bidirectional(un_tree,'A','F'))"
   ]
  },
  {
   "cell_type": "markdown",
   "id": "d311d1b17347cbc2",
   "metadata": {},
   "source": [
    "Here I traversed from both sides, but we can do further and build path as well"
   ]
  },
  {
   "cell_type": "markdown",
   "id": "2684a84e00578481",
   "metadata": {},
   "source": [
    "### UCS\n",
    "UCS or uniform cost search is a variant of Dijkstra's algorithm and is used to find the least-cost path from a starting node to a goal node. UCS expands the least costly node in the search space, ensuring that the first time it reaches the goal node, it has found the optimal path."
   ]
  },
  {
   "cell_type": "code",
   "execution_count": 12,
   "id": "1f51445d9d311464",
   "metadata": {
    "ExecuteTime": {
     "end_time": "2025-09-20T10:23:02.171705Z",
     "start_time": "2025-09-20T10:23:02.160234Z"
    }
   },
   "outputs": [],
   "source": [
    "G = {\n",
    "    \"Arad\": [(\"Zerind\", 75), (\"Sibiu\", 140), (\"Timisoara\", 118)],\n",
    "    \"Zerind\": [(\"Arad\", 75), (\"Oradea\", 71)],\n",
    "    \"Oradea\": [(\"Zerind\", 71), (\"Sibiu\", 151)],\n",
    "    \"Timisoara\": [(\"Arad\", 118), (\"Lugoj\", 111)],\n",
    "    \"Lugoj\": [(\"Timisoara\", 111), (\"Mehadia\", 70)],\n",
    "    \"Mehadia\": [(\"Lugoj\", 70), (\"Drobeta\", 75)],\n",
    "    \"Drobeta\": [(\"Mehadia\", 75), (\"Craiova\", 120)],\n",
    "    \"Craiova\": [(\"Drobeta\", 120), (\"Rimnicu Vilcea\", 146), (\"Pitesti\", 138)],\n",
    "    \"Sibiu\": [(\"Arad\", 140), (\"Oradea\", 151), (\"Fagaras\", 99), (\"Rimnicu Vilcea\", 80)],\n",
    "    \"Fagaras\": [(\"Sibiu\", 99), (\"Bucharest\", 211)],\n",
    "    \"Rimnicu Vilcea\": [(\"Sibiu\", 80), (\"Craiova\", 146), (\"Pitesti\", 97)],\n",
    "    \"Pitesti\": [(\"Rimnicu Vilcea\", 97), (\"Craiova\", 138), (\"Bucharest\", 101)],\n",
    "    \"Bucharest\": [(\"Fagaras\", 211), (\"Pitesti\", 101), (\"Giurgiu\", 90), (\"Urziceni\", 85)],\n",
    "    \"Giurgiu\": [(\"Bucharest\", 90)],\n",
    "    \"Urziceni\": [(\"Bucharest\", 85), (\"Hirsova\", 98), (\"Vaslui\", 142)],\n",
    "    \"Hirsova\": [(\"Urziceni\", 98), (\"Eforie\", 86)],\n",
    "    \"Eforie\": [(\"Hirsova\", 86)],\n",
    "    \"Vaslui\": [(\"Urziceni\", 142), (\"Iasi\", 92)],\n",
    "    \"Iasi\": [(\"Vaslui\", 92), (\"Neamt\", 87)],\n",
    "    \"Neamt\": [(\"Iasi\", 87)],\n",
    "}"
   ]
  },
  {
   "cell_type": "code",
   "execution_count": 16,
   "id": "ccb9aaebd8295ec",
   "metadata": {
    "ExecuteTime": {
     "end_time": "2025-09-20T10:36:18.941472Z",
     "start_time": "2025-09-20T10:36:18.936775Z"
    }
   },
   "outputs": [
    {
     "name": "stdout",
     "output_type": "stream",
     "text": [
      "Path :  Arad -> Sibiu -> Rimnicu Vilcea -> Pitesti -> Bucharest\n",
      "Cost :  418\n"
     ]
    }
   ],
   "source": [
    "from heapq import heappush, heappop\n",
    "\n",
    "def ucs(graph,start,goal):\n",
    "    frontier = []\n",
    "    heappush(frontier,(0,start,[start]))\n",
    "    best_graph = {start: 0}\n",
    "\n",
    "    while frontier:\n",
    "        path_cost,node,path_list=heappop(frontier)\n",
    "        if node == goal:\n",
    "            return path_cost,path_list\n",
    "        for child , child_cost in graph[node]:\n",
    "            updated_cost = child_cost + path_cost\n",
    "            if child not in best_graph or updated_cost < best_graph[child]:\n",
    "                best_graph[child] = updated_cost\n",
    "                heappush(frontier,(updated_cost,child,path_list+[child]))\n",
    "\n",
    "    return None,float('inf')\n",
    "\n",
    "cost,path=ucs(G,\"Arad\",\"Bucharest\")\n",
    "print(\"Path : \",' -> '.join(path))\n",
    "print(\"Cost : \",cost)"
   ]
  },
  {
   "cell_type": "markdown",
   "id": "7405ec7bf31ced70",
   "metadata": {},
   "source": [
    "### Informed Search\n",
    "For informed search, let's consider a map, from Arad to Bucharest. We will use the heuristic function H(n) which is the straight-line distance from any node n to goal node Bucharest. Here's visual representation,\n",
    "<img src='img_1.png'>"
   ]
  },
  {
   "cell_type": "code",
   "execution_count": 2,
   "id": "4fe5fae5119bc3fd",
   "metadata": {
    "ExecuteTime": {
     "end_time": "2025-09-20T15:37:58.381551Z",
     "start_time": "2025-09-20T15:37:58.375925Z"
    }
   },
   "outputs": [],
   "source": [
    "# Undirected weighted graph: city -> list of (neighbor, distance_km)\n",
    "G = {\n",
    "    \"Arad\": [(\"Zerind\", 75), (\"Sibiu\", 140), (\"Timisoara\", 118)],\n",
    "    \"Zerind\": [(\"Arad\", 75), (\"Oradea\", 71)],\n",
    "    \"Oradea\": [(\"Zerind\", 71), (\"Sibiu\", 151)],\n",
    "    \"Timisoara\": [(\"Arad\", 118), (\"Lugoj\", 111)],\n",
    "    \"Lugoj\": [(\"Timisoara\", 111), (\"Mehadia\", 70)],\n",
    "    \"Mehadia\": [(\"Lugoj\", 70), (\"Drobeta\", 75)],\n",
    "    \"Drobeta\": [(\"Mehadia\", 75), (\"Craiova\", 120)],\n",
    "    \"Craiova\": [(\"Drobeta\", 120), (\"Rimnicu Vilcea\", 146), (\"Pitesti\", 138)],\n",
    "    \"Sibiu\": [(\"Arad\", 140), (\"Oradea\", 151), (\"Fagaras\", 99), (\"Rimnicu Vilcea\", 80)],\n",
    "    \"Fagaras\": [(\"Sibiu\", 99), (\"Bucharest\", 211)],\n",
    "    \"Rimnicu Vilcea\": [(\"Sibiu\", 80), (\"Craiova\", 146), (\"Pitesti\", 97)],\n",
    "    \"Pitesti\": [(\"Rimnicu Vilcea\", 97), (\"Craiova\", 138), (\"Bucharest\", 101)],\n",
    "    \"Bucharest\": [(\"Fagaras\", 211), (\"Pitesti\", 101), (\"Giurgiu\", 90), (\"Urziceni\", 85)],\n",
    "    \"Giurgiu\": [(\"Bucharest\", 90)],\n",
    "    \"Urziceni\": [(\"Bucharest\", 85), (\"Hirsova\", 98), (\"Vaslui\", 142)],\n",
    "    \"Hirsova\": [(\"Urziceni\", 98), (\"Eforie\", 86)],\n",
    "    \"Eforie\": [(\"Hirsova\", 86)],\n",
    "    \"Vaslui\": [(\"Urziceni\", 142), (\"Iasi\", 92)],\n",
    "    \"Iasi\": [(\"Vaslui\", 92), (\"Neamt\", 87)],\n",
    "    \"Neamt\": [(\"Iasi\", 87)],\n",
    "}\n",
    "\n",
    "# Straight-line distances to Bucharest (heuristic)\n",
    "H = {\n",
    "    \"Arad\": 366, \"Bucharest\": 0, \"Craiova\": 160, \"Drobeta\": 242, \"Eforie\": 161,\n",
    "    \"Fagaras\": 176, \"Giurgiu\": 77, \"Hirsova\": 151, \"Iasi\": 226, \"Lugoj\": 244,\n",
    "    \"Mehadia\": 241, \"Neamt\": 234, \"Oradea\": 380, \"Pitesti\": 100,\n",
    "    \"Rimnicu Vilcea\": 193, \"Sibiu\": 253, \"Timisoara\": 329, \"Urziceni\": 80,\n",
    "    \"Vaslui\": 199, \"Zerind\": 374,\n",
    "}"
   ]
  },
  {
   "cell_type": "markdown",
   "id": "fb0ddcf4c41952f6",
   "metadata": {},
   "source": [
    "### Greedy Best-First Search\n",
    "Greedy Best-First Search is an informed search algorithm that uses a heuristic to estimate the cost to reach the goal from a given node. It expands the most promising node based on this heuristic, rather than the actual cost from the start node. This can lead to faster solutions in some cases, but it does not guarantee the optimal solution."
   ]
  },
  {
   "cell_type": "code",
   "execution_count": 3,
   "id": "1f4baf06ff086782",
   "metadata": {
    "ExecuteTime": {
     "end_time": "2025-09-20T15:38:02.491694Z",
     "start_time": "2025-09-20T15:38:02.486966Z"
    }
   },
   "outputs": [
    {
     "name": "stdout",
     "output_type": "stream",
     "text": [
      "Path :  Arad -> Sibiu -> Fagaras -> Bucharest\n",
      "Cost :  450\n"
     ]
    }
   ],
   "source": [
    "from heapq import heappush , heappop\n",
    "\n",
    "def greedy_best_first(graph,heuristic,start,goal):\n",
    "    frontier = []\n",
    "    heappush(frontier,(heuristic[start],0,start,[start]))\n",
    "    best_graph = {start: 0}\n",
    "\n",
    "    while frontier:\n",
    "        cost,path_cost,node,path_list = heappop(frontier)\n",
    "        if node == goal:\n",
    "            return path_cost,path_list\n",
    "        for child ,child_cost in graph[node]:\n",
    "            updated_cost = heuristic[child]\n",
    "            if child not in best_graph or updated_cost < best_graph[child]:\n",
    "                best_graph[child] = updated_cost\n",
    "                heappush(frontier,(updated_cost,child_cost+path_cost,child,path_list+[child]))\n",
    "\n",
    "cost,path=greedy_best_first(G,H,\"Arad\",\"Bucharest\")\n",
    "print(\"Path : \",\" -> \".join(path))\n",
    "print(\"Cost : \",cost)"
   ]
  },
  {
   "cell_type": "markdown",
   "id": "728e2455483ca555",
   "metadata": {},
   "source": [
    "### A* Search\n",
    "A* search is an informed search algorithm that combines the strengths of Uniform Cost Search and Greedy Best First Search. It uses both the actual cost from the start node to the current node{g(n)} and their estimated cost from the current node to the goal node{h(n)}. The total cost function is f(n) = g(n) + h(n). A* guarantees finding the shortest path if the heuristic is admissible. It is widely used in pathfinding and graph traversal due to its optimality an efficiency."
   ]
  },
  {
   "cell_type": "code",
   "execution_count": 4,
   "id": "21aa3a36aae657b4",
   "metadata": {
    "ExecuteTime": {
     "end_time": "2025-09-20T15:38:05.218133Z",
     "start_time": "2025-09-20T15:38:05.211479Z"
    }
   },
   "outputs": [
    {
     "name": "stdout",
     "output_type": "stream",
     "text": [
      "Path :  Arad -> Sibiu -> Rimnicu Vilcea -> Pitesti -> Bucharest\n",
      "Cost :  418\n"
     ]
    }
   ],
   "source": [
    "from heapq import heappush, heappop\n",
    "\n",
    "def a_star(graph, heuristic, start, goal):\n",
    "    frontier = []\n",
    "    heappush(frontier, (heuristic[start], 0, start, [start]))\n",
    "    best_graph = {start: 0}\n",
    "\n",
    "    while frontier:\n",
    "        cost, path_cost, node, path_list = heappop(frontier)\n",
    "        if node == goal:\n",
    "            return path_cost, path_list\n",
    "        for child,child_cost in graph[node]:\n",
    "            updated_cost = path_cost + child_cost + heuristic[child]\n",
    "            if child not in best_graph or updated_cost < best_graph[child]:\n",
    "                best_graph[child] = updated_cost\n",
    "                heappush(frontier, (updated_cost, path_cost + child_cost, child, path_list + [child]))\n",
    "\n",
    "cost, path= a_star(G, H, \"Arad\", \"Bucharest\")\n",
    "print(\"Path : \", \" -> \".join(path))\n",
    "print(\"Cost : \", cost)\n"
   ]
  }
 ],
 "metadata": {
  "kernelspec": {
   "display_name": "Python 3",
   "language": "python",
   "name": "python3"
  },
  "language_info": {
   "codemirror_mode": {
    "name": "ipython",
    "version": 2
   },
   "file_extension": ".py",
   "mimetype": "text/x-python",
   "name": "python",
   "nbconvert_exporter": "python",
   "pygments_lexer": "ipython2",
   "version": "2.7.6"
  }
 },
 "nbformat": 4,
 "nbformat_minor": 5
}
