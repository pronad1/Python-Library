{
 "cells": [
  {
   "metadata": {},
   "cell_type": "markdown",
   "source": [
    "In artificial intelligence, searching problems involve finding a solution from a large space of possible solutions. We can categorize it into,\n",
    "\n",
    "Uninformed Search: These algorithms do not have any additional information about the goal state. Examples include,\n",
    "\n",
    "Breadth-First Search (BFS)\n",
    "Depth-First Search (DFS)\n",
    "DFS Limited\n",
    "Iterative DFS\n",
    "Bidirectional Search\n",
    "Uniform Cost Search (UCS)\n",
    "Informed Search: These algorithms use heuristics to guide the search process. Examples include,\n",
    "\n",
    "Greedy Best-First Search\n",
    "A* Search"
   ],
   "id": "55ab7344a0f0a265"
  },
  {
   "metadata": {},
   "cell_type": "markdown",
   "source": [
    "### Uninformed search\n",
    "First things first, let’s imagine a tree,\n",
    "<img src=\"img.png\" alt=\"My Image\" width=\"150\"/>\n",
    "\n"
   ],
   "id": "2c4e250e71ae12d6"
  },
  {
   "metadata": {
    "ExecuteTime": {
     "end_time": "2025-09-20T04:09:18.773885Z",
     "start_time": "2025-09-20T04:09:18.770171Z"
    }
   },
   "cell_type": "code",
   "source": [
    "tree = {\n",
    "    'A' : ['B', 'E'],\n",
    "    'B' : ['C', 'D'],\n",
    "    'C' : ['F'],\n",
    "    'D' : [],\n",
    "    'F' : [],\n",
    "    'E' : []\n",
    "}"
   ],
   "id": "b059635feec5d2f8",
   "outputs": [],
   "execution_count": 3
  },
  {
   "metadata": {},
   "cell_type": "markdown",
   "source": [
    "### BFS\n",
    "BFS is an algorithm for traversing or searching tree or graph data structures. It starts at the root node and explores all neighboring nodes at the present depth prior to moving on to nodes at the next depth level."
   ],
   "id": "20981f00b7e84146"
  },
  {
   "metadata": {
    "ExecuteTime": {
     "end_time": "2025-09-20T04:09:21.142185Z",
     "start_time": "2025-09-20T04:09:21.136090Z"
    }
   },
   "cell_type": "code",
   "source": [
    "from collections import deque\n",
    "\n",
    "def bfs(tree, start):\n",
    "    visited = []\n",
    "    queue = deque([start])\n",
    "\n",
    "    while queue:\n",
    "        node = queue.popleft()\n",
    "        if node not in visited:\n",
    "            visited.append(node)\n",
    "            print(node,'->',end=' ')\n",
    "\n",
    "            for child in tree[node]:\n",
    "                if child not in visited:\n",
    "                    queue.append(child)\n",
    "\n",
    "bfs(tree,'A')"
   ],
   "id": "f5e7b3992a2aa074",
   "outputs": [
    {
     "name": "stdout",
     "output_type": "stream",
     "text": [
      "A -> B -> E -> C -> D -> F -> "
     ]
    }
   ],
   "execution_count": 4
  },
  {
   "metadata": {},
   "cell_type": "markdown",
   "source": [
    "### DFS\n",
    "DFS is an algorithm for traversing or searching tree or graph data structures.It starts at the root node and explores as far as possible along each branch before backtracking."
   ],
   "id": "949fcb5d27697133"
  },
  {
   "metadata": {
    "ExecuteTime": {
     "end_time": "2025-09-20T04:19:31.504846Z",
     "start_time": "2025-09-20T04:19:31.499082Z"
    }
   },
   "cell_type": "code",
   "source": [
    "def dfs(tree, start, visited=[]):\n",
    "    if start not in visited:\n",
    "        visited.append(start)\n",
    "        print(start,'->',end=' ')\n",
    "    for node in tree[start]:\n",
    "        dfs(tree, node, visited)\n",
    "dfs(tree,'A')"
   ],
   "id": "ad0aab947c9bc825",
   "outputs": [
    {
     "name": "stdout",
     "output_type": "stream",
     "text": [
      "A -> B -> C -> F -> D -> E -> "
     ]
    }
   ],
   "execution_count": 5
  },
  {
   "metadata": {},
   "cell_type": "code",
   "outputs": [],
   "execution_count": null,
   "source": "",
   "id": "d8a5b453ef6d98b1"
  }
 ],
 "metadata": {
  "kernelspec": {
   "display_name": "Python 3",
   "language": "python",
   "name": "python3"
  },
  "language_info": {
   "codemirror_mode": {
    "name": "ipython",
    "version": 2
   },
   "file_extension": ".py",
   "mimetype": "text/x-python",
   "name": "python",
   "nbconvert_exporter": "python",
   "pygments_lexer": "ipython2",
   "version": "2.7.6"
  }
 },
 "nbformat": 4,
 "nbformat_minor": 5
}
