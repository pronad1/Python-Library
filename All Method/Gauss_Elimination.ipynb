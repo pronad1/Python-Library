{
 "cells": [
  {
   "metadata": {},
   "cell_type": "markdown",
   "source": "### Gaussian Elimination",
   "id": "49521620ac139e23"
  },
  {
   "cell_type": "code",
   "id": "initial_id",
   "metadata": {
    "collapsed": true,
    "ExecuteTime": {
     "end_time": "2025-09-17T03:09:12.432469Z",
     "start_time": "2025-09-17T03:09:12.428760Z"
    }
   },
   "source": [
    "# N=int(input(\"Enter the number of unknown\"))\n",
    "# arr=[]\n",
    "# for i in range(N):\n",
    "#     arr.append(list(map(int,input().split())))\n",
    "\n",
    "N=3\n",
    "arr=[[2, 1, -1, 8], [-3, -1, 2, -11], [-2, 1, 2, -3]]"
   ],
   "outputs": [],
   "execution_count": 6
  },
  {
   "metadata": {
    "ExecuteTime": {
     "end_time": "2025-09-17T03:09:12.931529Z",
     "start_time": "2025-09-17T03:09:12.927650Z"
    }
   },
   "cell_type": "code",
   "source": [
    "print(N)\n",
    "\n",
    "def prin_arr(arr):\n",
    "    for i in range(N):\n",
    "        print(arr[i])\n",
    "prin_arr(arr)"
   ],
   "id": "bf11cd218a3e811c",
   "outputs": [
    {
     "name": "stdout",
     "output_type": "stream",
     "text": [
      "3\n",
      "[2, 1, -1, 8]\n",
      "[-3, -1, 2, -11]\n",
      "[-2, 1, 2, -3]\n"
     ]
    }
   ],
   "execution_count": 7
  },
  {
   "metadata": {
    "ExecuteTime": {
     "end_time": "2025-09-17T03:09:25.135142Z",
     "start_time": "2025-09-17T03:09:25.130364Z"
    }
   },
   "cell_type": "code",
   "source": [
    "import copy\n",
    "arr = copy.deepcopy(arr)\n",
    "\n",
    "def gauss_elimination(arr,N):\n",
    "    for i in range(N):\n",
    "        for j in range(N,-1,-1):\n",
    "            arr[i][j] /= arr[i][i]\n",
    "        for j in range(i+1,N):\n",
    "            for k in range(N,-1,-1):\n",
    "                arr[j][k]-=arr[i][k] * arr[j][i]\n",
    "\n",
    "        prin_arr(arr)\n",
    "        print()\n",
    "    solve=[0 for j in range(N)]\n",
    "    for i in range(N-1,-1,-1):\n",
    "        for j in range(N):\n",
    "            solve[i]=arr[i][N]\n",
    "        for k in range(i+1,N):\n",
    "            solve[i] -= arr[i][k]*solve[k]\n",
    "        solve[i] /= arr[i][i]\n",
    "    print(solve)\n",
    "\n",
    "gauss_elimination(arr,N)"
   ],
   "id": "2d156d1de45e59d1",
   "outputs": [
    {
     "name": "stdout",
     "output_type": "stream",
     "text": [
      "[1.0, 0.5, -0.5, 4.0]\n",
      "[0.0, 1.0, 1.0, 2.0]\n",
      "[0.0, 0.0, 1.0, -1.0]\n",
      "\n",
      "[1.0, 0.5, -0.5, 4.0]\n",
      "[0.0, 1.0, 1.0, 2.0]\n",
      "[0.0, 0.0, 1.0, -1.0]\n",
      "\n",
      "[1.0, 0.5, -0.5, 4.0]\n",
      "[0.0, 1.0, 1.0, 2.0]\n",
      "[0.0, 0.0, 1.0, -1.0]\n",
      "\n",
      "[2.0, 3.0, -1.0]\n"
     ]
    }
   ],
   "execution_count": 9
  },
  {
   "metadata": {},
   "cell_type": "code",
   "outputs": [],
   "execution_count": null,
   "source": "",
   "id": "ecd86a89acf12895"
  }
 ],
 "metadata": {
  "kernelspec": {
   "display_name": "Python 3",
   "language": "python",
   "name": "python3"
  },
  "language_info": {
   "codemirror_mode": {
    "name": "ipython",
    "version": 2
   },
   "file_extension": ".py",
   "mimetype": "text/x-python",
   "name": "python",
   "nbconvert_exporter": "python",
   "pygments_lexer": "ipython2",
   "version": "2.7.6"
  }
 },
 "nbformat": 4,
 "nbformat_minor": 5
}
