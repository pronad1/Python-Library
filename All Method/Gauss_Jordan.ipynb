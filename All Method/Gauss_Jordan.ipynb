{
 "cells": [
  {
   "metadata": {},
   "cell_type": "markdown",
   "source": "### Gauss Jordan",
   "id": "149a4245be2da6ef"
  },
  {
   "cell_type": "code",
   "id": "initial_id",
   "metadata": {
    "collapsed": true,
    "ExecuteTime": {
     "end_time": "2025-09-17T02:09:04.902884Z",
     "start_time": "2025-09-17T02:09:04.899963Z"
    }
   },
   "source": [
    "# User input (auto)\n",
    "# N = int(input(\"Enter number of unknowns: \"))\n",
    "#\n",
    "# arr = []\n",
    "# for i in range(N):\n",
    "#     arr.append(list(map(int,input().split())))\n",
    "\n",
    "# User input (manual)\n",
    "N = 3\n",
    "arr = [[2, 1, -1, 8], [-3, -1, 2, -11], [-2, 1, 2, -3]]"
   ],
   "outputs": [],
   "execution_count": 29
  },
  {
   "metadata": {
    "ExecuteTime": {
     "end_time": "2025-09-17T02:09:05.809640Z",
     "start_time": "2025-09-17T02:09:05.804064Z"
    }
   },
   "cell_type": "code",
   "source": [
    "print(N)\n",
    "\n",
    "def print_arr(arr):\n",
    "    for i in range(N):\n",
    "        print(arr[i])\n",
    "print_arr(arr)"
   ],
   "id": "40a1fb23a1e0b999",
   "outputs": [
    {
     "name": "stdout",
     "output_type": "stream",
     "text": [
      "3\n",
      "[2, 1, -1, 8]\n",
      "[-3, -1, 2, -11]\n",
      "[-2, 1, 2, -3]\n"
     ]
    }
   ],
   "execution_count": 30
  },
  {
   "metadata": {
    "ExecuteTime": {
     "end_time": "2025-09-17T02:09:09.679470Z",
     "start_time": "2025-09-17T02:09:09.674027Z"
    }
   },
   "cell_type": "code",
   "source": [
    "import copy\n",
    "arr = copy.deepcopy(arr)\n",
    "\n",
    "def gauss_jordan(arr, N):\n",
    "    for i in range(N):\n",
    "        for j in range(N):\n",
    "            if i != j:\n",
    "                p = arr[j][i] / arr[i][i]\n",
    "                for k in range(N+1):\n",
    "                    arr[j][k] -= arr[i][k] * p\n",
    "        print_arr(arr)\n",
    "        print()\n",
    "\n",
    "    for i in range(N):\n",
    "        print(arr[i][3] / arr[i][i])\n",
    "\n",
    "gauss_jordan(arr,N)\n"
   ],
   "id": "955683682bf34a33",
   "outputs": [
    {
     "name": "stdout",
     "output_type": "stream",
     "text": [
      "[2, 1, -1, 8]\n",
      "[0.0, 0.5, 0.5, 1.0]\n",
      "[0.0, 2.0, 1.0, 5.0]\n",
      "\n",
      "[2.0, 0.0, -2.0, 6.0]\n",
      "[0.0, 0.5, 0.5, 1.0]\n",
      "[0.0, 0.0, -1.0, 1.0]\n",
      "\n",
      "[2.0, 0.0, 0.0, 4.0]\n",
      "[0.0, 0.5, 0.0, 1.5]\n",
      "[0.0, 0.0, -1.0, 1.0]\n",
      "\n",
      "2.0\n",
      "3.0\n",
      "-1.0\n"
     ]
    }
   ],
   "execution_count": 31
  },
  {
   "metadata": {},
   "cell_type": "code",
   "outputs": [],
   "execution_count": null,
   "source": "",
   "id": "1acf8a7f67202b02"
  }
 ],
 "metadata": {
  "kernelspec": {
   "display_name": "Python 3",
   "language": "python",
   "name": "python3"
  },
  "language_info": {
   "codemirror_mode": {
    "name": "ipython",
    "version": 2
   },
   "file_extension": ".py",
   "mimetype": "text/x-python",
   "name": "python",
   "nbconvert_exporter": "python",
   "pygments_lexer": "ipython2",
   "version": "2.7.6"
  }
 },
 "nbformat": 4,
 "nbformat_minor": 5
}
