{
 "cells": [
  {
   "metadata": {
    "ExecuteTime": {
     "end_time": "2025-09-21T07:10:00.049505Z",
     "start_time": "2025-09-21T07:10:00.044817Z"
    }
   },
   "cell_type": "code",
   "source": [
    "from itertools import product\n",
    "\n",
    "def truth_table(express):\n",
    "    print(\" P | Q | R\\n_________\")\n",
    "    for P,Q in product([0,1], repeat=2):\n",
    "        R=express(P,Q)\n",
    "        print(f\"{P}|{Q}|{R}\")\n",
    "express=lambda a,b: a and b\n",
    "truth_table(express)"
   ],
   "id": "71e586c55de2d237",
   "outputs": [
    {
     "name": "stdout",
     "output_type": "stream",
     "text": [
      " P | Q | R\n",
      "_________\n",
      "0|0|0\n",
      "0|1|0\n",
      "1|0|0\n",
      "1|1|1\n"
     ]
    }
   ],
   "execution_count": 105
  },
  {
   "metadata": {
    "ExecuteTime": {
     "end_time": "2025-09-21T07:17:06.477707Z",
     "start_time": "2025-09-21T07:17:06.470548Z"
    }
   },
   "cell_type": "code",
   "source": [
    "class People:\n",
    "    def __init__(self,name,parent=None,children=None):\n",
    "        self.name=name\n",
    "        self.parent=parent\n",
    "        self.children=[]\n",
    "\n",
    "class Relation:\n",
    "    def __init__(self):\n",
    "        self.map = {}\n",
    "\n",
    "    def add(self,person):\n",
    "        self.map[person.name]=person\n",
    "\n",
    "    def parent(self,parent,child):\n",
    "        self.map[child].parent=parent\n",
    "        self.map[parent].children.append(child)\n",
    "\n",
    "    def find_grandparent(self,name):\n",
    "        parent=self.map[name].parent\n",
    "        if parent is None:\n",
    "            return None\n",
    "        grandparent=self.map[parent].parent\n",
    "        return grandparent"
   ],
   "id": "528854a39d27a282",
   "outputs": [],
   "execution_count": 106
  },
  {
   "metadata": {
    "ExecuteTime": {
     "end_time": "2025-09-21T07:19:39.433039Z",
     "start_time": "2025-09-21T07:19:39.423396Z"
    }
   },
   "cell_type": "code",
   "source": [
    "relation =Relation()\n",
    "\n",
    "jon= People(\"jon\")\n",
    "roy= People(\"roy\")\n",
    "oo =People(\"oo\")\n",
    "\n",
    "relation.add(jon)\n",
    "relation.add(roy)\n",
    "relation.add(oo)\n",
    "\n",
    "relation.parent(\"jon\",\"roy\")\n",
    "relation.parent(\"roy\",\"oo\")\n",
    "\n",
    "print(relation.find_grandparent(\"oo\"))"
   ],
   "id": "591de3c60faf59ef",
   "outputs": [
    {
     "name": "stdout",
     "output_type": "stream",
     "text": [
      "jon\n"
     ]
    }
   ],
   "execution_count": 110
  },
  {
   "metadata": {},
   "cell_type": "code",
   "outputs": [],
   "execution_count": null,
   "source": "",
   "id": "ac573e53f205e8c1"
  }
 ],
 "metadata": {
  "kernelspec": {
   "display_name": "Python 3",
   "language": "python",
   "name": "python3"
  },
  "language_info": {
   "codemirror_mode": {
    "name": "ipython",
    "version": 2
   },
   "file_extension": ".py",
   "mimetype": "text/x-python",
   "name": "python",
   "nbconvert_exporter": "python",
   "pygments_lexer": "ipython2",
   "version": "2.7.6"
  }
 },
 "nbformat": 4,
 "nbformat_minor": 5
}
