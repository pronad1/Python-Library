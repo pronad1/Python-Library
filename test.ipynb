{
 "cells": [
  {
   "metadata": {
    "ExecuteTime": {
     "end_time": "2025-09-20T04:11:41.882399Z",
     "start_time": "2025-09-20T04:11:41.877935Z"
    }
   },
   "cell_type": "code",
   "source": [
    "tree = {\n",
    "    'A' : ['B','E'],\n",
    "    'B' : ['C','D'],\n",
    "    'C' : ['F'],\n",
    "    'D' : [],\n",
    "    'E' : [],\n",
    "    'F' : []\n",
    "}"
   ],
   "id": "2dcd484010f4bbf",
   "outputs": [],
   "execution_count": 1
  },
  {
   "metadata": {
    "ExecuteTime": {
     "end_time": "2025-09-20T04:13:43.879830Z",
     "start_time": "2025-09-20T04:13:43.872158Z"
    }
   },
   "cell_type": "code",
   "source": [
    "from _collections import deque\n",
    "def bfs(tree,start):\n",
    "    visited = []\n",
    "    queue = deque([start])\n",
    "\n",
    "    while queue:\n",
    "        node = queue.popleft()\n",
    "        if node not in visited:\n",
    "            visited.append(node)\n",
    "            print(node,'->',end=' ')\n",
    "            for child in tree[node]:\n",
    "                if child not in visited:\n",
    "                    queue.append(child)\n",
    "bfs(tree,'A')"
   ],
   "id": "e13f88253aef0e4c",
   "outputs": [
    {
     "name": "stdout",
     "output_type": "stream",
     "text": [
      "A -> B -> E -> C -> D -> F -> "
     ]
    }
   ],
   "execution_count": 2
  },
  {
   "metadata": {
    "ExecuteTime": {
     "end_time": "2025-09-20T04:21:33.203971Z",
     "start_time": "2025-09-20T04:21:33.197523Z"
    }
   },
   "cell_type": "code",
   "source": [
    "def dfs(tree,start,visited = []):\n",
    "    if start not in visited:\n",
    "        visited.append(start)\n",
    "        print(start,'->',end=' ')\n",
    "    for child in tree[start]:\n",
    "        dfs(tree,child,visited)\n",
    "dfs(tree,'A')"
   ],
   "id": "5410bdddbea73d11",
   "outputs": [
    {
     "name": "stdout",
     "output_type": "stream",
     "text": [
      "A -> B -> C -> F -> D -> E -> "
     ]
    }
   ],
   "execution_count": 3
  },
  {
   "metadata": {
    "ExecuteTime": {
     "end_time": "2025-09-20T04:45:21.646139Z",
     "start_time": "2025-09-20T04:45:21.635851Z"
    }
   },
   "cell_type": "code",
   "source": [
    "def dfs_limited(tree,start,limit,visited = []):\n",
    "    if limit<=0:\n",
    "        return\n",
    "    if start not in visited:\n",
    "        visited.append(start)\n",
    "        print(start,end=' ')\n",
    "    for child in tree[start]:\n",
    "        dfs_limited(tree,child,limit-1,visited)\n",
    "dfs_limited(tree,'A',3)"
   ],
   "id": "a89e129af8c3ea0d",
   "outputs": [
    {
     "name": "stdout",
     "output_type": "stream",
     "text": [
      "A B C D E "
     ]
    }
   ],
   "execution_count": 7
  },
  {
   "metadata": {},
   "cell_type": "markdown",
   "source": [
    "### Iterative DFS\n",
    "Iterative deepening DFS is a hybrid of DFS & BFS. It repeatedly applies DFS with increasing depth limit until a goal is found. This approach combines the space efficiency of DFS with the completeness of BFS."
   ],
   "id": "3f276abaf7523eac"
  },
  {
   "metadata": {
    "ExecuteTime": {
     "end_time": "2025-09-20T04:45:23.638061Z",
     "start_time": "2025-09-20T04:45:23.629173Z"
    }
   },
   "cell_type": "code",
   "source": [
    "def iterative_deepening(tree,start,max_limit):\n",
    "    for i in range(max_limit):\n",
    "        print(f'Iteration {i+1} : ',end=' ')\n",
    "        dfs_limited(tree,start,i+1,[])\n",
    "        print()\n",
    "iterative_deepening(tree,'A',4)"
   ],
   "id": "22edb28b61ca00d4",
   "outputs": [
    {
     "name": "stdout",
     "output_type": "stream",
     "text": [
      "Iteration 1 :  A \n",
      "Iteration 2 :  A B E \n",
      "Iteration 3 :  A B C D E \n",
      "Iteration 4 :  A B C F D E \n"
     ]
    }
   ],
   "execution_count": 8
  },
  {
   "metadata": {},
   "cell_type": "code",
   "outputs": [],
   "execution_count": null,
   "source": "",
   "id": "dded7a03300f105d"
  }
 ],
 "metadata": {
  "kernelspec": {
   "display_name": "Python 3",
   "language": "python",
   "name": "python3"
  },
  "language_info": {
   "codemirror_mode": {
    "name": "ipython",
    "version": 2
   },
   "file_extension": ".py",
   "mimetype": "text/x-python",
   "name": "python",
   "nbconvert_exporter": "python",
   "pygments_lexer": "ipython2",
   "version": "2.7.6"
  }
 },
 "nbformat": 4,
 "nbformat_minor": 5
}
