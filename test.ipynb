{
 "cells": [
  {
   "metadata": {
    "ExecuteTime": {
     "end_time": "2025-09-20T13:53:48.974848Z",
     "start_time": "2025-09-20T13:53:48.948322Z"
    }
   },
   "cell_type": "code",
   "source": [
    "from itertools import product\n",
    "from sys import prefix\n",
    "\n",
    "ops = {\n",
    "    '~': lambda a: not a,\n",
    "    '^': lambda a,b: a and b,\n",
    "    '|': lambda a,b: a or b\n",
    "}\n",
    "\n",
    "def truth_table(var,expr_func):\n",
    "    print(\" | \".join(var),\" | Result\")\n",
    "    print(\"-\"*(4*len(var)+9))\n",
    "    for values in product([False, True], repeat=len(var)):\n",
    "        assign = dict(zip(var,values))\n",
    "        result = expr_func(assign)\n",
    "        row = [(\"1\" if assign[v] else \"0\") for v in var]\n",
    "        row.append(\"1\" if result else \"0\")\n",
    "        print(\" | \".join(row))\n",
    "\n",
    "def compress_sentence(sentences):\n",
    "    sentence = sentences.strip()\n",
    "    prefix = []\n",
    "    for sentence in zip(*sentences):\n",
    "        if len(set(sentence)) == 1:\n",
    "            prefix.append(sentence[0])\n",
    "        else:\n",
    "            break\n",
    "    if not prefix:\n",
    "        return \"and\""
   ],
   "id": "2477449da05df505",
   "outputs": [
    {
     "ename": "SyntaxError",
     "evalue": "expected ':' (785990883.py, line 9)",
     "output_type": "error",
     "traceback": [
      "  \u001B[36mCell\u001B[39m\u001B[36m \u001B[39m\u001B[32mIn[36]\u001B[39m\u001B[32m, line 9\u001B[39m\n\u001B[31m    \u001B[39m\u001B[31mdef truth_table(var,expr)\u001B[39m\n                             ^\n\u001B[31mSyntaxError\u001B[39m\u001B[31m:\u001B[39m expected ':'\n"
     ]
    }
   ],
   "execution_count": 36
  }
 ],
 "metadata": {
  "kernelspec": {
   "display_name": "Python 3",
   "language": "python",
   "name": "python3"
  },
  "language_info": {
   "codemirror_mode": {
    "name": "ipython",
    "version": 2
   },
   "file_extension": ".py",
   "mimetype": "text/x-python",
   "name": "python",
   "nbconvert_exporter": "python",
   "pygments_lexer": "ipython2",
   "version": "2.7.6"
  }
 },
 "nbformat": 4,
 "nbformat_minor": 5
}
