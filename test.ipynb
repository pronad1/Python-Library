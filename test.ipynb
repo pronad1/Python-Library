{
 "cells": [
  {
   "metadata": {
    "ExecuteTime": {
     "end_time": "2025-09-20T08:10:37.838707Z",
     "start_time": "2025-09-20T08:10:37.833761Z"
    }
   },
   "cell_type": "code",
   "source": [
    "tree = {\n",
    "    'A' : ['B','E'],\n",
    "    'B' : ['C','D'],\n",
    "    'C' : ['F'],\n",
    "    'D' : [],\n",
    "    'E' : [],\n",
    "    'F' : []\n",
    "}"
   ],
   "id": "dcc774d2b8681b5d",
   "outputs": [],
   "execution_count": 16
  },
  {
   "metadata": {
    "ExecuteTime": {
     "end_time": "2025-09-20T08:10:39.948742Z",
     "start_time": "2025-09-20T08:10:39.941305Z"
    }
   },
   "cell_type": "code",
   "source": [
    "from collections import deque\n",
    "def bfs(tree,start):\n",
    "    visited = []\n",
    "    queue = deque([start])\n",
    "\n",
    "    while queue:\n",
    "        node = queue.popleft()\n",
    "        if node not in visited:\n",
    "            visited.append(node)\n",
    "            print(node,end=' ')\n",
    "            for child in tree[node]:\n",
    "                if child not in visited:\n",
    "                    queue.append(child)\n",
    "\n",
    "bfs(tree,'A')"
   ],
   "id": "e845ecb06a16046f",
   "outputs": [
    {
     "name": "stdout",
     "output_type": "stream",
     "text": [
      "A B E C D F "
     ]
    }
   ],
   "execution_count": 17
  },
  {
   "metadata": {
    "ExecuteTime": {
     "end_time": "2025-09-20T08:10:56.557404Z",
     "start_time": "2025-09-20T08:10:56.554186Z"
    }
   },
   "cell_type": "code",
   "source": [
    "def dfs(tree,start,visited=[]):\n",
    "    if start not in visited:\n",
    "        visited.append(start)\n",
    "        print(start,end=' ')\n",
    "    for child in tree[start]:\n",
    "            dfs(tree,child,visited)\n",
    "dfs(tree,'A')"
   ],
   "id": "2ea2b5fb9d2d919f",
   "outputs": [
    {
     "name": "stdout",
     "output_type": "stream",
     "text": [
      "A B C F D E "
     ]
    }
   ],
   "execution_count": 18
  },
  {
   "metadata": {
    "ExecuteTime": {
     "end_time": "2025-09-20T08:13:11.503583Z",
     "start_time": "2025-09-20T08:13:11.497509Z"
    }
   },
   "cell_type": "code",
   "source": [
    "def dfs_limited(tree,start,limit,visited=[]):\n",
    "    if limit<=0:\n",
    "        return\n",
    "    if start not in visited:\n",
    "        visited.append(start)\n",
    "        print(start,end=' ')\n",
    "    for child in tree[start]:\n",
    "        dfs_limited(tree,child,limit-1,visited)\n",
    "dfs_limited(tree,'A',3)"
   ],
   "id": "7923f56ad85d1dd6",
   "outputs": [
    {
     "name": "stdout",
     "output_type": "stream",
     "text": [
      "A B C D E "
     ]
    }
   ],
   "execution_count": 19
  },
  {
   "metadata": {
    "ExecuteTime": {
     "end_time": "2025-09-20T09:41:57.407074Z",
     "start_time": "2025-09-20T09:41:57.401340Z"
    }
   },
   "cell_type": "code",
   "source": [
    "def dfs_iterative(tree,start,max_iter):\n",
    "    for i in range(max_iter):\n",
    "        print(f'Iteration {i+1}',end=' ')\n",
    "        dfs_limited(tree,start,i+1,[])\n",
    "        print()\n",
    "dfs_iterative(tree,'A',4)"
   ],
   "id": "5a838b6bdc5bd68d",
   "outputs": [
    {
     "name": "stdout",
     "output_type": "stream",
     "text": [
      "Iteration 1 A \n",
      "Iteration 2 A B E \n",
      "Iteration 3 A B C D E \n",
      "Iteration 4 A B C F D E \n"
     ]
    }
   ],
   "execution_count": 22
  },
  {
   "metadata": {
    "ExecuteTime": {
     "end_time": "2025-09-20T10:00:31.130923Z",
     "start_time": "2025-09-20T10:00:31.126659Z"
    }
   },
   "cell_type": "code",
   "source": [
    "un_tree = {\n",
    "    'A' : ['B', 'E'],\n",
    "    'B' : ['C', 'D','A'],\n",
    "    'C' : ['F','B'],\n",
    "    'D' : ['B'],\n",
    "    'E' : ['A'],\n",
    "    'F' : ['C']\n",
    "}"
   ],
   "id": "267436b37363c0e6",
   "outputs": [],
   "execution_count": 23
  },
  {
   "metadata": {
    "ExecuteTime": {
     "end_time": "2025-09-20T10:05:43.526122Z",
     "start_time": "2025-09-20T10:05:43.510335Z"
    }
   },
   "cell_type": "code",
   "source": [
    "from collections import deque\n",
    "\n",
    "def bidirectional(tree,start,goal):\n",
    "    if start == goal:\n",
    "        return None,None\n",
    "\n",
    "    start_visited =[]\n",
    "    goal_visited =[]\n",
    "\n",
    "    start_queue = deque([start])\n",
    "    goal_queue = deque([goal])\n",
    "\n",
    "    while start_queue and goal_queue:\n",
    "        start_node = start_queue.popleft()\n",
    "        if start_node not in start_visited:\n",
    "            start_visited.append(start_node)\n",
    "\n",
    "            for child in tree[start_node]:\n",
    "                if child not in start_visited:\n",
    "                    start_queue.append(child)\n",
    "\n",
    "        goal_node = goal_queue.popleft()\n",
    "        if goal_node not in goal_visited:\n",
    "            goal_visited.append(goal_node)\n",
    "\n",
    "            for child in tree[goal_node]:\n",
    "                if child not in goal_visited:\n",
    "                    goal_queue.append(child)\n",
    "\n",
    "        if start_node in goal_visited or goal_node in start_visited:\n",
    "            return start_visited,goal_visited\n",
    "\n",
    "print(bidirectional(un_tree,'A','F'))"
   ],
   "id": "2d023190a4b30b62",
   "outputs": [
    {
     "name": "stdout",
     "output_type": "stream",
     "text": [
      "(['A', 'B', 'E'], ['F', 'C', 'B'])\n"
     ]
    }
   ],
   "execution_count": 24
  },
  {
   "metadata": {
    "ExecuteTime": {
     "end_time": "2025-09-20T10:45:21.867315Z",
     "start_time": "2025-09-20T10:45:21.862871Z"
    }
   },
   "cell_type": "code",
   "source": [
    "G = {\n",
    "    \"Arad\": [(\"Zerind\", 75), (\"Sibiu\", 140), (\"Timisoara\", 118)],\n",
    "    \"Zerind\": [(\"Arad\", 75), (\"Oradea\", 71)],\n",
    "    \"Oradea\": [(\"Zerind\", 71), (\"Sibiu\", 151)],\n",
    "    \"Timisoara\": [(\"Arad\", 118), (\"Lugoj\", 111)],\n",
    "    \"Lugoj\": [(\"Timisoara\", 111), (\"Mehadia\", 70)],\n",
    "    \"Mehadia\": [(\"Lugoj\", 70), (\"Drobeta\", 75)],\n",
    "    \"Drobeta\": [(\"Mehadia\", 75), (\"Craiova\", 120)],\n",
    "    \"Craiova\": [(\"Drobeta\", 120), (\"Rimnicu Vilcea\", 146), (\"Pitesti\", 138)],\n",
    "    \"Sibiu\": [(\"Arad\", 140), (\"Oradea\", 151), (\"Fagaras\", 99), (\"Rimnicu Vilcea\", 80)],\n",
    "    \"Fagaras\": [(\"Sibiu\", 99), (\"Bucharest\", 211)],\n",
    "    \"Rimnicu Vilcea\": [(\"Sibiu\", 80), (\"Craiova\", 146), (\"Pitesti\", 97)],\n",
    "    \"Pitesti\": [(\"Rimnicu Vilcea\", 97), (\"Craiova\", 138), (\"Bucharest\", 101)],\n",
    "    \"Bucharest\": [(\"Fagaras\", 211), (\"Pitesti\", 101), (\"Giurgiu\", 90), (\"Urziceni\", 85)],\n",
    "    \"Giurgiu\": [(\"Bucharest\", 90)],\n",
    "    \"Urziceni\": [(\"Bucharest\", 85), (\"Hirsova\", 98), (\"Vaslui\", 142)],\n",
    "    \"Hirsova\": [(\"Urziceni\", 98), (\"Eforie\", 86)],\n",
    "    \"Eforie\": [(\"Hirsova\", 86)],\n",
    "    \"Vaslui\": [(\"Urziceni\", 142), (\"Iasi\", 92)],\n",
    "    \"Iasi\": [(\"Vaslui\", 92), (\"Neamt\", 87)],\n",
    "    \"Neamt\": [(\"Iasi\", 87)],\n",
    "}"
   ],
   "id": "da6395df80a2e1b2",
   "outputs": [],
   "execution_count": 27
  },
  {
   "metadata": {
    "ExecuteTime": {
     "end_time": "2025-09-20T11:09:07.870591Z",
     "start_time": "2025-09-20T11:09:07.864560Z"
    }
   },
   "cell_type": "code",
   "source": [
    "from heapq import heappush , heappop\n",
    "\n",
    "def ucs(graph,start,goal):\n",
    "    frontier = []\n",
    "    heappush(frontier,(0,start,[start]))\n",
    "    best_graph = {start : 0}\n",
    "\n",
    "    while frontier:\n",
    "        path_cost,node,path_list = heappop(frontier)\n",
    "        if node == goal :\n",
    "            return path_cost,path_list\n",
    "        for child , child_cost in graph[node]:\n",
    "            updated_cost = path_cost + child_cost\n",
    "            if child not in best_graph or updated_cost <best_graph[child]:\n",
    "                best_graph[child] = updated_cost\n",
    "                heappush(frontier,(updated_cost,child,path_list+[child]))\n",
    "\n",
    "    return None, float(\"inf\")\n",
    "\n",
    "cost,path= ucs(G,'Arad','Bucharest')\n",
    "print(\"Path : \",\" -> \".join(path))\n",
    "print(\"Cost : \",cost)"
   ],
   "id": "a84d59a0c48762c8",
   "outputs": [
    {
     "name": "stdout",
     "output_type": "stream",
     "text": [
      "Path :  Arad -> Sibiu -> Rimnicu Vilcea -> Pitesti -> Bucharest\n",
      "Cost :  418\n"
     ]
    }
   ],
   "execution_count": 31
  },
  {
   "metadata": {
    "ExecuteTime": {
     "end_time": "2025-09-20T12:10:04.327482Z",
     "start_time": "2025-09-20T12:10:04.312769Z"
    }
   },
   "cell_type": "code",
   "source": [
    "# Undirected weighted graph: city -> list of (neighbor, distance_km)\n",
    "G = {\n",
    "    \"Arad\": [(\"Zerind\", 75), (\"Sibiu\", 140), (\"Timisoara\", 118)],\n",
    "    \"Zerind\": [(\"Arad\", 75), (\"Oradea\", 71)],\n",
    "    \"Oradea\": [(\"Zerind\", 71), (\"Sibiu\", 151)],\n",
    "    \"Timisoara\": [(\"Arad\", 118), (\"Lugoj\", 111)],\n",
    "    \"Lugoj\": [(\"Timisoara\", 111), (\"Mehadia\", 70)],\n",
    "    \"Mehadia\": [(\"Lugoj\", 70), (\"Drobeta\", 75)],\n",
    "    \"Drobeta\": [(\"Mehadia\", 75), (\"Craiova\", 120)],\n",
    "    \"Craiova\": [(\"Drobeta\", 120), (\"Rimnicu Vilcea\", 146), (\"Pitesti\", 138)],\n",
    "    \"Sibiu\": [(\"Arad\", 140), (\"Oradea\", 151), (\"Fagaras\", 99), (\"Rimnicu Vilcea\", 80)],\n",
    "    \"Fagaras\": [(\"Sibiu\", 99), (\"Bucharest\", 211)],\n",
    "    \"Rimnicu Vilcea\": [(\"Sibiu\", 80), (\"Craiova\", 146), (\"Pitesti\", 97)],\n",
    "    \"Pitesti\": [(\"Rimnicu Vilcea\", 97), (\"Craiova\", 138), (\"Bucharest\", 101)],\n",
    "    \"Bucharest\": [(\"Fagaras\", 211), (\"Pitesti\", 101), (\"Giurgiu\", 90), (\"Urziceni\", 85)],\n",
    "    \"Giurgiu\": [(\"Bucharest\", 90)],\n",
    "    \"Urziceni\": [(\"Bucharest\", 85), (\"Hirsova\", 98), (\"Vaslui\", 142)],\n",
    "    \"Hirsova\": [(\"Urziceni\", 98), (\"Eforie\", 86)],\n",
    "    \"Eforie\": [(\"Hirsova\", 86)],\n",
    "    \"Vaslui\": [(\"Urziceni\", 142), (\"Iasi\", 92)],\n",
    "    \"Iasi\": [(\"Vaslui\", 92), (\"Neamt\", 87)],\n",
    "    \"Neamt\": [(\"Iasi\", 87)],\n",
    "}\n",
    "\n",
    "# Straight-line distances to Bucharest (heuristic)\n",
    "H = {\n",
    "    \"Arad\": 366, \"Bucharest\": 0, \"Craiova\": 160, \"Drobeta\": 242, \"Eforie\": 161,\n",
    "    \"Fagaras\": 176, \"Giurgiu\": 77, \"Hirsova\": 151, \"Iasi\": 226, \"Lugoj\": 244,\n",
    "    \"Mehadia\": 241, \"Neamt\": 234, \"Oradea\": 380, \"Pitesti\": 100,\n",
    "    \"Rimnicu Vilcea\": 193, \"Sibiu\": 253, \"Timisoara\": 329, \"Urziceni\": 80,\n",
    "    \"Vaslui\": 199, \"Zerind\": 374,\n",
    "}"
   ],
   "id": "475546073139de1d",
   "outputs": [],
   "execution_count": 32
  },
  {
   "metadata": {
    "ExecuteTime": {
     "end_time": "2025-09-20T12:16:47.878817Z",
     "start_time": "2025-09-20T12:16:47.866116Z"
    }
   },
   "cell_type": "code",
   "source": [
    "from heapq import heappush,heappop\n",
    "\n",
    "def greedy_best_first(graph,heuristic,start,goal):\n",
    "    frontier = []\n",
    "    heappush(frontier,(heuristic[start],0,start,[start]))\n",
    "    best_graph = {start: 0}\n",
    "\n",
    "    while frontier:\n",
    "        cost,path_cost,node,path_list= heappop(frontier)\n",
    "        if node == goal :\n",
    "            return path_cost,path_list\n",
    "        for child,child_cost in graph[node]:\n",
    "            updated_cost = cost + heuristic[child]\n",
    "            if child not in best_graph or updated_cost < best_graph[child]:\n",
    "                best_graph[child]= updated_cost\n",
    "                heappush(frontier,(updated_cost,path_cost+child_cost,child,path_list+[child]))\n",
    "\n",
    "cost,path = greedy_best_first(G,H,\"Arad\",\"Bucharest\")\n",
    "print(\"Path : \",\" -> \".join(path))\n",
    "print(\"Cost : \",cost)"
   ],
   "id": "41cb479bb4e77d1",
   "outputs": [
    {
     "name": "stdout",
     "output_type": "stream",
     "text": [
      "Path :  Arad -> Sibiu -> Fagaras -> Bucharest\n",
      "Cost :  450\n"
     ]
    }
   ],
   "execution_count": 33
  },
  {
   "metadata": {
    "ExecuteTime": {
     "end_time": "2025-09-20T12:22:05.033371Z",
     "start_time": "2025-09-20T12:22:05.026862Z"
    }
   },
   "cell_type": "code",
   "source": [
    "from heapq import heappush , heappop\n",
    "\n",
    "def a_star(graph,heuristic,start,goal):\n",
    "    frontier = []\n",
    "    heappush(frontier,(heuristic[start],0,start,[start]))\n",
    "    best_graph = {start:0}\n",
    "\n",
    "    while frontier:\n",
    "        cost,path_cost,node,path_list = heappop(frontier)\n",
    "        if node == goal :\n",
    "            return path_cost,path_list\n",
    "        for child, child_cost in graph[node]:\n",
    "            updated_cost = path_cost + heuristic[child] + child_cost\n",
    "            if child not in best_graph or updated_cost < best_graph[child]:\n",
    "                best_graph[child] = updated_cost\n",
    "                heappush(frontier,(updated_cost,path_cost+child_cost,child,path_list+[child]))\n",
    "\n",
    "cost,path = a_star(G,H,\"Arad\",\"Bucharest\")\n",
    "print(\"Path : \",\" -> \".join(path))\n",
    "print(\"Cost : \",cost)"
   ],
   "id": "8807297db99335a8",
   "outputs": [
    {
     "name": "stdout",
     "output_type": "stream",
     "text": [
      "Path :  Arad -> Sibiu -> Rimnicu Vilcea -> Pitesti -> Bucharest\n",
      "Cost :  418\n"
     ]
    }
   ],
   "execution_count": 35
  },
  {
   "metadata": {},
   "cell_type": "code",
   "outputs": [],
   "execution_count": null,
   "source": "",
   "id": "c95db4aabc7dcc40"
  }
 ],
 "metadata": {
  "kernelspec": {
   "display_name": "Python 3",
   "language": "python",
   "name": "python3"
  },
  "language_info": {
   "codemirror_mode": {
    "name": "ipython",
    "version": 2
   },
   "file_extension": ".py",
   "mimetype": "text/x-python",
   "name": "python",
   "nbconvert_exporter": "python",
   "pygments_lexer": "ipython2",
   "version": "2.7.6"
  }
 },
 "nbformat": 4,
 "nbformat_minor": 5
}
