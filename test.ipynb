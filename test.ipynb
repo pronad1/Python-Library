{
 "cells": [
  {
   "metadata": {
    "ExecuteTime": {
     "end_time": "2025-09-17T03:27:36.600664Z",
     "start_time": "2025-09-17T03:27:36.596293Z"
    }
   },
   "cell_type": "code",
   "source": [
    "N=3\n",
    "arr=[[2,1,-1,8],[-3,-1,2,-11],[-2,1,2,-3]]\n",
    "\n",
    "print(N)\n",
    "def prin_arr(arr):\n",
    "    for i in range(N):\n",
    "        print(arr[i])\n",
    "prin_arr(arr)"
   ],
   "id": "4a5a07d3cb2f0d09",
   "outputs": [
    {
     "name": "stdout",
     "output_type": "stream",
     "text": [
      "3\n",
      "[2, 1, -1, 8]\n",
      "[-3, -1, 2, -11]\n",
      "[-2, 1, 2, -3]\n"
     ]
    }
   ],
   "execution_count": 23
  },
  {
   "metadata": {
    "ExecuteTime": {
     "end_time": "2025-09-17T04:04:14.944954Z",
     "start_time": "2025-09-17T04:04:14.933402Z"
    }
   },
   "cell_type": "code",
   "source": [
    "import copy\n",
    "arr = copy.deepcopy(arr)\n",
    "\n",
    "def gauss(arr):\n",
    "    for i in range(N):\n",
    "        for j in range(N,-1,-1):\n",
    "            arr[i][j] /= arr[i][i]\n",
    "        for j in range(i+1,N):\n",
    "            for k in range(N,-1,-1):\n",
    "                arr[j][k]-=arr[i][k]*arr[j][i]\n",
    "        prin_arr(arr)\n",
    "        print()\n",
    "\n",
    "    solve=[0 for i in range(N)]\n",
    "    for i in range(N-1,-1,-1):\n",
    "        for j in range(N):\n",
    "            solve[i]=arr[i][N]\n",
    "        for k in range(i+1,N):\n",
    "            solve[i] -= arr[i][k]*solve[k]\n",
    "        solve[i]/=arr[i][i]\n",
    "\n",
    "    print(solve)\n",
    "gauss(arr)"
   ],
   "id": "9ef372c5fec366a3",
   "outputs": [
    {
     "name": "stdout",
     "output_type": "stream",
     "text": [
      "[1.0, 0.5, -0.5, 4.0]\n",
      "[0.0, 1.0, 1.0, 2.0]\n",
      "[0.0, 0.0, 1.0, -1.0]\n",
      "\n",
      "[1.0, 0.5, -0.5, 4.0]\n",
      "[0.0, 1.0, 1.0, 2.0]\n",
      "[0.0, 0.0, 1.0, -1.0]\n",
      "\n",
      "[1.0, 0.5, -0.5, 4.0]\n",
      "[0.0, 1.0, 1.0, 2.0]\n",
      "[0.0, 0.0, 1.0, -1.0]\n",
      "\n",
      "[2.0, 3.0, -1.0]\n"
     ]
    }
   ],
   "execution_count": 46
  },
  {
   "metadata": {},
   "cell_type": "code",
   "outputs": [],
   "execution_count": null,
   "source": "",
   "id": "f16d789b0dae987"
  }
 ],
 "metadata": {
  "kernelspec": {
   "display_name": "Python 3",
   "language": "python",
   "name": "python3"
  },
  "language_info": {
   "codemirror_mode": {
    "name": "ipython",
    "version": 2
   },
   "file_extension": ".py",
   "mimetype": "text/x-python",
   "name": "python",
   "nbconvert_exporter": "python",
   "pygments_lexer": "ipython2",
   "version": "2.7.6"
  }
 },
 "nbformat": 4,
 "nbformat_minor": 5
}
