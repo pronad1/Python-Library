{
 "cells": [
  {
   "metadata": {
    "ExecuteTime": {
     "end_time": "2025-09-20T15:58:01.952590Z",
     "start_time": "2025-09-20T15:58:01.949290Z"
    }
   },
   "cell_type": "code",
   "source": [
    "class Statement:\n",
    "    def __init__(self, subject, predicate, singular=True):\n",
    "        self.subject = subject\n",
    "        self.predicate = predicate\n",
    "        self.singular = singular"
   ],
   "id": "dffe5cd3438d4345",
   "outputs": [],
   "execution_count": 7
  },
  {
   "metadata": {
    "ExecuteTime": {
     "end_time": "2025-09-20T15:58:07.787883Z",
     "start_time": "2025-09-20T15:58:07.780534Z"
    }
   },
   "cell_type": "code",
   "source": [
    "class Relation:\n",
    "    def __init__(self):\n",
    "        self.map = {}\n",
    "\n",
    "    def add(self, statement, subject, predicate, singular=True):\n",
    "        self.map[statement] = Statement(subject, predicate, singular)\n",
    "\n",
    "    def print_statement(self, statement):\n",
    "        if self.map[statement].singular:\n",
    "            print(self.map[statement].subject, \" is \", self.map[statement].predicate, end=\"\")\n",
    "        else:\n",
    "            print(self.map[statement].subject, \" are \", self.map[statement].predicate, end=\"\")\n",
    "\n",
    "    def print_neg_statement(self, statement):\n",
    "        if self.map[statement].singular:\n",
    "            print(self.map[statement].subject, \" is not \", self.map[statement].predicate, end=\"\")\n",
    "        else:\n",
    "            print(self.map[statement].subject, \" are not \", self.map[statement].predicate, end=\"\")\n",
    "\n",
    "    def build_statement(self, logic):\n",
    "\n",
    "        logic = logic.replace(\" \", \"\")  # no space\n",
    "        logic = logic.replace(\",\", \"\")  # no comma\n",
    "\n",
    "        neg = False\n",
    "        only_sub = False\n",
    "\n",
    "        for i in range(len(logic)):\n",
    "            if logic[i] == '!':\n",
    "                neg = True\n",
    "            elif logic[i] == '&':\n",
    "                print(\" and \", end=\"\")\n",
    "            elif logic[i] == '|':\n",
    "                print(\" or \", end=\"\")\n",
    "            elif logic[i] == '*':\n",
    "                print(\" if and only if, \", end=\"\")\n",
    "            elif logic[i] == '~':\n",
    "                print(\" implies, \", end=\"\")\n",
    "            elif logic[i] == 'A':\n",
    "                print(\" For all \", end=\"\")\n",
    "                only_sub = True\n",
    "            elif logic[i] == 'E':\n",
    "                print(\" For some \", end=\"\")\n",
    "                only_sub = True\n",
    "            elif logic[i] in ['(', ')', ',']:\n",
    "                continue\n",
    "            else:\n",
    "                if only_sub:\n",
    "                    print(self.map[logic[i]].subject, end=\", \")\n",
    "                    only_sub = False\n",
    "                elif neg:\n",
    "                    self.print_neg_statement(logic[i])\n",
    "                    neg = False\n",
    "                else:\n",
    "                    self.print_statement(logic[i])\n",
    "        print(\".\")"
   ],
   "id": "422cc786df4764ee",
   "outputs": [],
   "execution_count": 8
  },
  {
   "metadata": {
    "ExecuteTime": {
     "end_time": "2025-09-20T15:58:09.043950Z",
     "start_time": "2025-09-20T15:58:09.037804Z"
    }
   },
   "cell_type": "code",
   "source": [
    "relation = Relation()\n",
    "\n",
    "relation.add(\"s\", \"students\", \"brilliant\", singular=False)\n",
    "relation.add(\"a\", \"Real CR\", \"student\")\n",
    "relation.add(\"b\", \"Real CR\", \"lazy\")\n",
    "\n",
    "relation.build_statement(\"A(s) s\")\n",
    "relation.build_statement(\"a & !b ~ a\")"
   ],
   "id": "6d52bf2ed2de61d8",
   "outputs": [
    {
     "name": "stdout",
     "output_type": "stream",
     "text": [
      " For all students, students  are  brilliant.\n",
      "Real CR  is  student and Real CR  is not  lazy implies, Real CR  is  student.\n"
     ]
    }
   ],
   "execution_count": 9
  },
  {
   "metadata": {
    "ExecuteTime": {
     "end_time": "2025-09-20T16:03:01.022802Z",
     "start_time": "2025-09-20T16:03:01.017136Z"
    }
   },
   "cell_type": "code",
   "source": [
    "def draw_table(vars_, expr_func):\n",
    "    print(\" | \".join(vars_) + \" | Result\")\n",
    "    print(\"-\" * (4 * len(vars_) + 9))\n",
    "    for values in product([False, True], repeat=len(vars_)):\n",
    "        assign = dict(zip(vars_, values))\n",
    "        result = expr_func(**assign)\n",
    "        row = [(\"1\" if assign[v] else \"0\") for v in vars_]\n",
    "        row.append(\"1\" if result else \"0\")\n",
    "        print(\" | \".join(row))"
   ],
   "id": "b484a755d5a84017",
   "outputs": [],
   "execution_count": 13
  },
  {
   "metadata": {
    "ExecuteTime": {
     "end_time": "2025-09-20T15:58:13.268772Z",
     "start_time": "2025-09-20T15:58:13.264710Z"
    }
   },
   "cell_type": "code",
   "source": [
    "def evaluate_expression(a, b, ex):\n",
    "    \"\"\"\n",
    "    & = AND\n",
    "    | = OR\n",
    "    ! = NOT\n",
    "    ~ = IMPLIES\n",
    "    * = IF AND ONLY IF\n",
    "    \"\"\"\n",
    "    if (ex == '!'):\n",
    "        return 0 if a == 1 else 1\n",
    "    elif (ex == '&'):\n",
    "        return 1 if a == 1 and b == 1 else 0\n",
    "    elif (ex == '|'):\n",
    "        return 1 if a == 1 or b == 1 else 0\n",
    "    elif (ex == '~'):\n",
    "        return 0 if a == 1 and b == 0 else 1\n",
    "    elif (ex == '*'):\n",
    "        return 1 if (a == 1 and b == 1) or (a == 0 and b == 0) else 0"
   ],
   "id": "821ad859fc72435a",
   "outputs": [],
   "execution_count": 11
  },
  {
   "metadata": {
    "ExecuteTime": {
     "end_time": "2025-09-20T15:58:14.120226Z",
     "start_time": "2025-09-20T15:58:14.114084Z"
    }
   },
   "cell_type": "code",
   "source": [
    "N = 2 # Number of variables\n",
    "arr = [list(map(int, bin(i)[2:].zfill(N))) for i in range(2**N)]\n",
    "\n",
    "for i in arr:\n",
    "    i.append(int(str(evaluate_expression(i[0], i[1], '*'))))\n",
    "draw_table(arr, \"A\", \"B\", \"ONLY IF\")"
   ],
   "id": "1eea5b5b352cdf8a",
   "outputs": [
    {
     "name": "stdout",
     "output_type": "stream",
     "text": [
      "---------------\n",
      "A | B | ONLY IF\n",
      "---------------\n",
      "0 | 0 | 1\n",
      "0 | 1 | 0\n",
      "1 | 0 | 0\n",
      "1 | 1 | 1\n",
      "---------------\n"
     ]
    }
   ],
   "execution_count": 12
  }
 ],
 "metadata": {
  "kernelspec": {
   "display_name": "Python 3",
   "language": "python",
   "name": "python3"
  },
  "language_info": {
   "codemirror_mode": {
    "name": "ipython",
    "version": 2
   },
   "file_extension": ".py",
   "mimetype": "text/x-python",
   "name": "python",
   "nbconvert_exporter": "python",
   "pygments_lexer": "ipython2",
   "version": "2.7.6"
  }
 },
 "nbformat": 4,
 "nbformat_minor": 5
}
