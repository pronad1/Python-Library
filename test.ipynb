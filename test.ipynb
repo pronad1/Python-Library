{
 "cells": [
  {
   "metadata": {
    "ExecuteTime": {
     "end_time": "2025-09-20T08:10:37.838707Z",
     "start_time": "2025-09-20T08:10:37.833761Z"
    }
   },
   "cell_type": "code",
   "source": [
    "tree = {\n",
    "    'A' : ['B','E'],\n",
    "    'B' : ['C','D'],\n",
    "    'C' : ['F'],\n",
    "    'D' : [],\n",
    "    'E' : [],\n",
    "    'F' : []\n",
    "}"
   ],
   "id": "dcc774d2b8681b5d",
   "outputs": [],
   "execution_count": 16
  },
  {
   "metadata": {
    "ExecuteTime": {
     "end_time": "2025-09-20T08:10:39.948742Z",
     "start_time": "2025-09-20T08:10:39.941305Z"
    }
   },
   "cell_type": "code",
   "source": [
    "from collections import deque\n",
    "def bfs(tree,start):\n",
    "    visited = []\n",
    "    queue = deque([start])\n",
    "\n",
    "    while queue:\n",
    "        node = queue.popleft()\n",
    "        if node not in visited:\n",
    "            visited.append(node)\n",
    "            print(node,end=' ')\n",
    "            for child in tree[node]:\n",
    "                if child not in visited:\n",
    "                    queue.append(child)\n",
    "\n",
    "bfs(tree,'A')"
   ],
   "id": "e845ecb06a16046f",
   "outputs": [
    {
     "name": "stdout",
     "output_type": "stream",
     "text": [
      "A B E C D F "
     ]
    }
   ],
   "execution_count": 17
  },
  {
   "metadata": {
    "ExecuteTime": {
     "end_time": "2025-09-20T08:10:56.557404Z",
     "start_time": "2025-09-20T08:10:56.554186Z"
    }
   },
   "cell_type": "code",
   "source": [
    "def dfs(tree,start,visited=[]):\n",
    "    if start not in visited:\n",
    "        visited.append(start)\n",
    "        print(start,end=' ')\n",
    "    for child in tree[start]:\n",
    "            dfs(tree,child,visited)\n",
    "dfs(tree,'A')"
   ],
   "id": "2ea2b5fb9d2d919f",
   "outputs": [
    {
     "name": "stdout",
     "output_type": "stream",
     "text": [
      "A B C F D E "
     ]
    }
   ],
   "execution_count": 18
  },
  {
   "metadata": {
    "ExecuteTime": {
     "end_time": "2025-09-20T08:13:11.503583Z",
     "start_time": "2025-09-20T08:13:11.497509Z"
    }
   },
   "cell_type": "code",
   "source": [
    "def dfs_limited(tree,start,limit,visited=[]):\n",
    "    if limit<=0:\n",
    "        return\n",
    "    if start not in visited:\n",
    "        visited.append(start)\n",
    "        print(start,end=' ')\n",
    "    for child in tree[start]:\n",
    "        dfs_limited(tree,child,limit-1,visited)\n",
    "dfs_limited(tree,'A',3)"
   ],
   "id": "7923f56ad85d1dd6",
   "outputs": [
    {
     "name": "stdout",
     "output_type": "stream",
     "text": [
      "A B C D E "
     ]
    }
   ],
   "execution_count": 19
  },
  {
   "metadata": {
    "ExecuteTime": {
     "end_time": "2025-09-20T09:41:57.407074Z",
     "start_time": "2025-09-20T09:41:57.401340Z"
    }
   },
   "cell_type": "code",
   "source": [
    "def dfs_iterative(tree,start,max_iter):\n",
    "    for i in range(max_iter):\n",
    "        print(f'Iteration {i+1}',end=' ')\n",
    "        dfs_limited(tree,start,i+1,[])\n",
    "        print()\n",
    "dfs_iterative(tree,'A',4)"
   ],
   "id": "5a838b6bdc5bd68d",
   "outputs": [
    {
     "name": "stdout",
     "output_type": "stream",
     "text": [
      "Iteration 1 A \n",
      "Iteration 2 A B E \n",
      "Iteration 3 A B C D E \n",
      "Iteration 4 A B C F D E \n"
     ]
    }
   ],
   "execution_count": 22
  },
  {
   "metadata": {
    "ExecuteTime": {
     "end_time": "2025-09-20T10:00:31.130923Z",
     "start_time": "2025-09-20T10:00:31.126659Z"
    }
   },
   "cell_type": "code",
   "source": [
    "un_tree = {\n",
    "    'A' : ['B', 'E'],\n",
    "    'B' : ['C', 'D','A'],\n",
    "    'C' : ['F','B'],\n",
    "    'D' : ['B'],\n",
    "    'E' : ['A'],\n",
    "    'F' : ['C']\n",
    "}"
   ],
   "id": "267436b37363c0e6",
   "outputs": [],
   "execution_count": 23
  },
  {
   "metadata": {
    "ExecuteTime": {
     "end_time": "2025-09-20T10:05:43.526122Z",
     "start_time": "2025-09-20T10:05:43.510335Z"
    }
   },
   "cell_type": "code",
   "source": [
    "from collections import deque\n",
    "\n",
    "def bidirectional(tree,start,goal):\n",
    "    if start == goal:\n",
    "        return None,None\n",
    "\n",
    "    start_visited =[]\n",
    "    goal_visited =[]\n",
    "\n",
    "    start_queue = deque([start])\n",
    "    goal_queue = deque([goal])\n",
    "\n",
    "    while start_queue and goal_queue:\n",
    "        start_node = start_queue.popleft()\n",
    "        if start_node not in start_visited:\n",
    "            start_visited.append(start_node)\n",
    "\n",
    "            for child in tree[start_node]:\n",
    "                if child not in start_visited:\n",
    "                    start_queue.append(child)\n",
    "\n",
    "        goal_node = goal_queue.popleft()\n",
    "        if goal_node not in goal_visited:\n",
    "            goal_visited.append(goal_node)\n",
    "\n",
    "            for child in tree[goal_node]:\n",
    "                if child not in goal_visited:\n",
    "                    goal_queue.append(child)\n",
    "\n",
    "        if start_node in goal_visited or goal_node in start_visited:\n",
    "            return start_visited,goal_visited\n",
    "\n",
    "print(bidirectional(un_tree,'A','F'))"
   ],
   "id": "2d023190a4b30b62",
   "outputs": [
    {
     "name": "stdout",
     "output_type": "stream",
     "text": [
      "(['A', 'B', 'E'], ['F', 'C', 'B'])\n"
     ]
    }
   ],
   "execution_count": 24
  },
  {
   "metadata": {},
   "cell_type": "code",
   "outputs": [],
   "execution_count": null,
   "source": "",
   "id": "f66bc9b1af5c801d"
  }
 ],
 "metadata": {
  "kernelspec": {
   "display_name": "Python 3",
   "language": "python",
   "name": "python3"
  },
  "language_info": {
   "codemirror_mode": {
    "name": "ipython",
    "version": 2
   },
   "file_extension": ".py",
   "mimetype": "text/x-python",
   "name": "python",
   "nbconvert_exporter": "python",
   "pygments_lexer": "ipython2",
   "version": "2.7.6"
  }
 },
 "nbformat": 4,
 "nbformat_minor": 5
}
